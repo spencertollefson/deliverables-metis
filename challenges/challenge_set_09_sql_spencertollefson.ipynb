{
 "cells": [
  {
   "cell_type": "raw",
   "metadata": {},
   "source": [
    "Topic:        Challenge Set 9\n",
    "Subject:      SQL\n",
    "Date:         10/17/2018\n",
    "Name:         Spencer Tollefson\n",
    "Worked with:  N/A"
   ]
  },
  {
   "cell_type": "markdown",
   "metadata": {},
   "source": [
    "# w3 School Intro Questions - Part i"
   ]
  },
  {
   "cell_type": "raw",
   "metadata": {},
   "source": [
    "1.\n",
    "SELECT * FROM CUSTOMERS\n",
    "WHERE Country='UK';\n",
    "\n",
    "2.\n",
    "SELECT Orders.CustomerID, CustomerName, COUNT(*) AS Cnt from Orders\n",
    "Join Customers ON Orders.CustomerID = Customers.CustomerID\n",
    "Group by Customers.CustomerID\n",
    "Order by Cnt DESC;\n",
    "\n",
    "3.\n",
    "Select Products.SupplierID, SupplierName, AVG(Price) from Products\n",
    "JOIN Suppliers ON Suppliers.SupplierID = Products.SupplierID\n",
    "Group By Suppliers.SupplierID\n",
    "Order By AVG(Price) DESC;\n",
    "\n",
    "4.\n",
    "SELECT COUNT(DISTINCT(Country)) FROM CUSTOMERS\n",
    "\n",
    "5.\n",
    "SELECT CategoryName, COUNT(Categories.CategoryID) as CNT\n",
    "FROM Products\n",
    " \tJOIN Orderdetails ON Products.ProductID = Orderdetails.ProductID\n",
    "    JOIN Categories ON Products.CategoryID = Categories.CategoryID\n",
    "Group By Categories.CategoryID\n",
    "Order By CNT Desc;\n",
    "\n",
    "6.\n",
    "SELECT OrderID, Orderdetails.Quantity AS Cost\n",
    "FROM Products\n",
    "\tJoin Orderdetails ON Orderdetails.ProductID = Products.ProductID\n",
    "GROUP BY OrderID\n",
    "Order By Cost DESC;\n",
    "\n",
    "7.\n",
    "SELECT e.FirstName, e.LastName, SUM(p.Price * op.Quantity) as Total\n",
    "FROM Employees as e\n",
    "\tJoin Orders as o\n",
    "    Join OrderDetails as op\n",
    "    Join Products as p\n",
    "    On\n",
    "    \te.EmployeeID = o.EmployeeID\n",
    "        AND\n",
    "        o.OrderID = op.OrderID\n",
    "        AND\n",
    "        op.ProductID = p.ProductID\n",
    "Group By e.EmployeeID\n",
    "Order By\n",
    "\tTotal DESC;\n",
    "\n",
    "8.\n",
    "SELECT e.FirstName, e.LastName, e.Notes\n",
    "FROM \n",
    "\tEmployees as e\n",
    "WHERE\n",
    "\te.Notes LIKE '%BS%'\n",
    "\n",
    "9.\n",
    "SELECT AVG(p.Price) as AvgPrice, SupplierName, Count(*) as NumProducts\n",
    "FROM Products as p\n",
    "\tJOIN Suppliers AS s\n",
    "\t\tON \n",
    "        p.SupplierID = s.SupplierID\n",
    "GROUP BY s.SupplierID\n",
    "HAVING NumProducts >= 3\n",
    "ORDER BY AvgPrice DESC;\n"
   ]
  },
  {
   "cell_type": "markdown",
   "metadata": {},
   "source": [
    "# Baseball Questions - Part ii"
   ]
  },
  {
   "cell_type": "code",
   "execution_count": null,
   "metadata": {},
   "outputs": [],
   "source": [
    "from sshtunnel import SSHTunnelForwarder\n",
    "\n",
    "AWS_IP_ADDRESS = '34.215.20.24'\n",
    "AWS_USERNAME = 'spencer'\n",
    "SSH_KEY_PATH = '/home/spencer/.ssh/id_rsa'\n",
    "\n",
    "server = SSHTunnelForwarder(\n",
    "    AWS_IP_ADDRESS,\n",
    "    ssh_username=AWS_USERNAME,\n",
    "    ssh_pkey=SSH_KEY_PATH,\n",
    "    remote_bind_address=('localhost', 5432),\n",
    ")\n",
    "\n",
    "server.start()\n",
    "print(server.is_active, server.is_alive, server.local_bind_port)"
   ]
  },
  {
   "cell_type": "code",
   "execution_count": null,
   "metadata": {},
   "outputs": [],
   "source": [
    "from sqlalchemy import create_engine\n",
    "\n",
    "# Postgres username, password, and database name\n",
    "POSTGRES_IP_ADDRESS = 'localhost' ## This is localhost because SSH tunnel is active\n",
    "POSTGRES_PORT = str(server.local_bind_port)\n",
    "POSTGRES_USERNAME = 'spencer'     ## CHANGE THIS TO YOUR POSTGRES USERNAME\n",
    "POSTGRES_PASSWORD = 'spencer' ## CHANGE THIS TO YOUR POSTGRES PASSWORD\n",
    "POSTGRES_DBNAME = 'baseball'\n",
    "\n",
    "# A long string that contains the necessary Postgres login information\n",
    "postgres_str = ('postgresql://{username}:{password}@{ipaddress}:{port}/{dbname}'\n",
    "                .format(username=POSTGRES_USERNAME, \n",
    "                        password=POSTGRES_PASSWORD,\n",
    "                        ipaddress=POSTGRES_IP_ADDRESS,\n",
    "                        port=POSTGRES_PORT,\n",
    "                        dbname=POSTGRES_DBNAME))\n",
    "\n",
    "# Create the connection\n",
    "cnx = create_engine(postgres_str)"
   ]
  },
  {
   "cell_type": "code",
   "execution_count": null,
   "metadata": {},
   "outputs": [],
   "source": [
    "import pandas as pd\n",
    "\n",
    "pd.read_sql_query('''SELECT * FROM allstarfull LIMIT 5;''', cnx)"
   ]
  },
  {
   "cell_type": "markdown",
   "metadata": {},
   "source": [
    "## Load Some Data!\n",
    "\n",
    "Pandas has a `read_sql_query` method that will pass a SQL statement to a database connection. Here is an example from the all-star table."
   ]
  },
  {
   "cell_type": "code",
   "execution_count": 3,
   "metadata": {
    "ExecuteTime": {
     "end_time": "2017-04-27T13:05:24.070260Z",
     "start_time": "2017-04-27T13:05:23.134374Z"
    },
    "scrolled": false
   },
   "outputs": [
    {
     "data": {
      "text/html": [
       "<div>\n",
       "<style>\n",
       "    .dataframe thead tr:only-child th {\n",
       "        text-align: right;\n",
       "    }\n",
       "\n",
       "    .dataframe thead th {\n",
       "        text-align: left;\n",
       "    }\n",
       "\n",
       "    .dataframe tbody tr th {\n",
       "        vertical-align: top;\n",
       "    }\n",
       "</style>\n",
       "<table border=\"1\" class=\"dataframe\">\n",
       "  <thead>\n",
       "    <tr style=\"text-align: right;\">\n",
       "      <th></th>\n",
       "      <th>playerid</th>\n",
       "      <th>yearid</th>\n",
       "      <th>gamenum</th>\n",
       "      <th>gameid</th>\n",
       "      <th>teamid</th>\n",
       "      <th>lgid</th>\n",
       "      <th>gp</th>\n",
       "      <th>startingpos</th>\n",
       "    </tr>\n",
       "  </thead>\n",
       "  <tbody>\n",
       "    <tr>\n",
       "      <th>0</th>\n",
       "      <td>gomezle01</td>\n",
       "      <td>1933</td>\n",
       "      <td>0</td>\n",
       "      <td>ALS193307060</td>\n",
       "      <td>NYA</td>\n",
       "      <td>AL</td>\n",
       "      <td>1</td>\n",
       "      <td>1</td>\n",
       "    </tr>\n",
       "    <tr>\n",
       "      <th>1</th>\n",
       "      <td>ferreri01</td>\n",
       "      <td>1933</td>\n",
       "      <td>0</td>\n",
       "      <td>ALS193307060</td>\n",
       "      <td>BOS</td>\n",
       "      <td>AL</td>\n",
       "      <td>1</td>\n",
       "      <td>2</td>\n",
       "    </tr>\n",
       "    <tr>\n",
       "      <th>2</th>\n",
       "      <td>gehrilo01</td>\n",
       "      <td>1933</td>\n",
       "      <td>0</td>\n",
       "      <td>ALS193307060</td>\n",
       "      <td>NYA</td>\n",
       "      <td>AL</td>\n",
       "      <td>1</td>\n",
       "      <td>3</td>\n",
       "    </tr>\n",
       "    <tr>\n",
       "      <th>3</th>\n",
       "      <td>gehrich01</td>\n",
       "      <td>1933</td>\n",
       "      <td>0</td>\n",
       "      <td>ALS193307060</td>\n",
       "      <td>DET</td>\n",
       "      <td>AL</td>\n",
       "      <td>1</td>\n",
       "      <td>4</td>\n",
       "    </tr>\n",
       "    <tr>\n",
       "      <th>4</th>\n",
       "      <td>dykesji01</td>\n",
       "      <td>1933</td>\n",
       "      <td>0</td>\n",
       "      <td>ALS193307060</td>\n",
       "      <td>CHA</td>\n",
       "      <td>AL</td>\n",
       "      <td>1</td>\n",
       "      <td>5</td>\n",
       "    </tr>\n",
       "  </tbody>\n",
       "</table>\n",
       "</div>"
      ],
      "text/plain": [
       "    playerid  yearid gamenum        gameid teamid lgid gp startingpos\n",
       "0  gomezle01    1933       0  ALS193307060    NYA   AL  1           1\n",
       "1  ferreri01    1933       0  ALS193307060    BOS   AL  1           2\n",
       "2  gehrilo01    1933       0  ALS193307060    NYA   AL  1           3\n",
       "3  gehrich01    1933       0  ALS193307060    DET   AL  1           4\n",
       "4  dykesji01    1933       0  ALS193307060    CHA   AL  1           5"
      ]
     },
     "execution_count": 3,
     "metadata": {},
     "output_type": "execute_result"
    }
   ],
   "source": [
    "import pandas as pd\n",
    "\n",
    "pd.read_sql_query('''SELECT * FROM allstarfull LIMIT 5;''', cnx)"
   ]
  },
  {
   "cell_type": "code",
   "execution_count": null,
   "metadata": {},
   "outputs": [],
   "source": []
  },
  {
   "cell_type": "markdown",
   "metadata": {},
   "source": [
    "And another from the schools table."
   ]
  },
  {
   "cell_type": "code",
   "execution_count": 4,
   "metadata": {
    "ExecuteTime": {
     "end_time": "2017-04-27T13:05:29.730994Z",
     "start_time": "2017-04-27T13:05:29.646038Z"
    }
   },
   "outputs": [
    {
     "data": {
      "text/html": [
       "<div>\n",
       "<style>\n",
       "    .dataframe thead tr:only-child th {\n",
       "        text-align: right;\n",
       "    }\n",
       "\n",
       "    .dataframe thead th {\n",
       "        text-align: left;\n",
       "    }\n",
       "\n",
       "    .dataframe tbody tr th {\n",
       "        vertical-align: top;\n",
       "    }\n",
       "</style>\n",
       "<table border=\"1\" class=\"dataframe\">\n",
       "  <thead>\n",
       "    <tr style=\"text-align: right;\">\n",
       "      <th></th>\n",
       "      <th>schoolid</th>\n",
       "      <th>schoolname</th>\n",
       "      <th>schoolcity</th>\n",
       "      <th>schoolstate</th>\n",
       "      <th>schoolnick</th>\n",
       "    </tr>\n",
       "  </thead>\n",
       "  <tbody>\n",
       "    <tr>\n",
       "      <th>0</th>\n",
       "      <td>abilchrist</td>\n",
       "      <td>Abilene Christian University</td>\n",
       "      <td>Abilene</td>\n",
       "      <td>TX</td>\n",
       "      <td>Wildcats</td>\n",
       "    </tr>\n",
       "    <tr>\n",
       "      <th>1</th>\n",
       "      <td>adelphi</td>\n",
       "      <td>Adelphi University</td>\n",
       "      <td>Garden City</td>\n",
       "      <td>NY</td>\n",
       "      <td>Panthers</td>\n",
       "    </tr>\n",
       "    <tr>\n",
       "      <th>2</th>\n",
       "      <td>adrianmi</td>\n",
       "      <td>Adrian College</td>\n",
       "      <td>Adrian</td>\n",
       "      <td>MI</td>\n",
       "      <td>Bulldogs</td>\n",
       "    </tr>\n",
       "    <tr>\n",
       "      <th>3</th>\n",
       "      <td>airforce</td>\n",
       "      <td>United States Air Force Academy</td>\n",
       "      <td>Colorado Springs</td>\n",
       "      <td>CO</td>\n",
       "      <td>Falcons</td>\n",
       "    </tr>\n",
       "    <tr>\n",
       "      <th>4</th>\n",
       "      <td>akron</td>\n",
       "      <td>University of Akron</td>\n",
       "      <td>Akron</td>\n",
       "      <td>OH</td>\n",
       "      <td>Zips</td>\n",
       "    </tr>\n",
       "  </tbody>\n",
       "</table>\n",
       "</div>"
      ],
      "text/plain": [
       "     schoolid                       schoolname        schoolcity schoolstate  \\\n",
       "0  abilchrist     Abilene Christian University           Abilene          TX   \n",
       "1     adelphi               Adelphi University       Garden City          NY   \n",
       "2    adrianmi                   Adrian College            Adrian          MI   \n",
       "3    airforce  United States Air Force Academy  Colorado Springs          CO   \n",
       "4       akron              University of Akron             Akron          OH   \n",
       "\n",
       "  schoolnick  \n",
       "0   Wildcats  \n",
       "1   Panthers  \n",
       "2   Bulldogs  \n",
       "3    Falcons  \n",
       "4       Zips  "
      ]
     },
     "execution_count": 4,
     "metadata": {},
     "output_type": "execute_result"
    }
   ],
   "source": [
    "pd.read_sql_query('''SELECT * FROM schools LIMIT 5;''', cnx)"
   ]
  },
  {
   "cell_type": "markdown",
   "metadata": {},
   "source": [
    "More sophisticated queries can also be used. This example finds the states with the most schools."
   ]
  },
  {
   "cell_type": "code",
   "execution_count": 5,
   "metadata": {
    "ExecuteTime": {
     "end_time": "2017-04-27T13:05:35.659127Z",
     "start_time": "2017-04-27T13:05:35.606399Z"
    }
   },
   "outputs": [
    {
     "data": {
      "text/html": [
       "<div>\n",
       "<style>\n",
       "    .dataframe thead tr:only-child th {\n",
       "        text-align: right;\n",
       "    }\n",
       "\n",
       "    .dataframe thead th {\n",
       "        text-align: left;\n",
       "    }\n",
       "\n",
       "    .dataframe tbody tr th {\n",
       "        vertical-align: top;\n",
       "    }\n",
       "</style>\n",
       "<table border=\"1\" class=\"dataframe\">\n",
       "  <thead>\n",
       "    <tr style=\"text-align: right;\">\n",
       "      <th></th>\n",
       "      <th>state</th>\n",
       "      <th>ct</th>\n",
       "    </tr>\n",
       "  </thead>\n",
       "  <tbody>\n",
       "    <tr>\n",
       "      <th>0</th>\n",
       "      <td>PA</td>\n",
       "      <td>57</td>\n",
       "    </tr>\n",
       "    <tr>\n",
       "      <th>1</th>\n",
       "      <td>CA</td>\n",
       "      <td>48</td>\n",
       "    </tr>\n",
       "    <tr>\n",
       "      <th>2</th>\n",
       "      <td>NY</td>\n",
       "      <td>45</td>\n",
       "    </tr>\n",
       "    <tr>\n",
       "      <th>3</th>\n",
       "      <td>TX</td>\n",
       "      <td>41</td>\n",
       "    </tr>\n",
       "    <tr>\n",
       "      <th>4</th>\n",
       "      <td>OH</td>\n",
       "      <td>33</td>\n",
       "    </tr>\n",
       "  </tbody>\n",
       "</table>\n",
       "</div>"
      ],
      "text/plain": [
       "  state  ct\n",
       "0    PA  57\n",
       "1    CA  48\n",
       "2    NY  45\n",
       "3    TX  41\n",
       "4    OH  33"
      ]
     },
     "execution_count": 5,
     "metadata": {},
     "output_type": "execute_result"
    }
   ],
   "source": [
    "sql_query = '''SELECT schoolstate as state, Count(schoolid) as ct \n",
    "               FROM schools \n",
    "               GROUP BY state \n",
    "               ORDER BY ct DESC \n",
    "               LIMIT 5;'''\n",
    "\n",
    "pd.read_sql_query(sql_query, cnx)"
   ]
  },
  {
   "cell_type": "markdown",
   "metadata": {},
   "source": [
    "Finally, this example finds five players from the year 1985 whose salary was above $500,000."
   ]
  },
  {
   "cell_type": "code",
   "execution_count": 6,
   "metadata": {
    "ExecuteTime": {
     "end_time": "2017-04-27T13:05:42.684223Z",
     "start_time": "2017-04-27T13:05:42.627261Z"
    }
   },
   "outputs": [
    {
     "data": {
      "text/html": [
       "<div>\n",
       "<style>\n",
       "    .dataframe thead tr:only-child th {\n",
       "        text-align: right;\n",
       "    }\n",
       "\n",
       "    .dataframe thead th {\n",
       "        text-align: left;\n",
       "    }\n",
       "\n",
       "    .dataframe tbody tr th {\n",
       "        vertical-align: top;\n",
       "    }\n",
       "</style>\n",
       "<table border=\"1\" class=\"dataframe\">\n",
       "  <thead>\n",
       "    <tr style=\"text-align: right;\">\n",
       "      <th></th>\n",
       "      <th>playerid</th>\n",
       "      <th>salary</th>\n",
       "    </tr>\n",
       "  </thead>\n",
       "  <tbody>\n",
       "    <tr>\n",
       "      <th>0</th>\n",
       "      <td>schmimi01</td>\n",
       "      <td>2130300.0</td>\n",
       "    </tr>\n",
       "    <tr>\n",
       "      <th>1</th>\n",
       "      <td>cartega01</td>\n",
       "      <td>2028571.0</td>\n",
       "    </tr>\n",
       "    <tr>\n",
       "      <th>2</th>\n",
       "      <td>fostege01</td>\n",
       "      <td>1942857.0</td>\n",
       "    </tr>\n",
       "    <tr>\n",
       "      <th>3</th>\n",
       "      <td>winfida01</td>\n",
       "      <td>1795704.0</td>\n",
       "    </tr>\n",
       "    <tr>\n",
       "      <th>4</th>\n",
       "      <td>gossari01</td>\n",
       "      <td>1713333.0</td>\n",
       "    </tr>\n",
       "  </tbody>\n",
       "</table>\n",
       "</div>"
      ],
      "text/plain": [
       "    playerid     salary\n",
       "0  schmimi01  2130300.0\n",
       "1  cartega01  2028571.0\n",
       "2  fostege01  1942857.0\n",
       "3  winfida01  1795704.0\n",
       "4  gossari01  1713333.0"
      ]
     },
     "execution_count": 6,
     "metadata": {},
     "output_type": "execute_result"
    }
   ],
   "source": [
    "sql_query = '''SELECT playerid, salary \n",
    "               FROM Salaries \n",
    "               WHERE yearid = '1985' AND salary > '500000'\n",
    "               ORDER BY salary DESC\n",
    "               LIMIT 5;'''\n",
    "\n",
    "pd.read_sql_query(sql_query, cnx)"
   ]
  },
  {
   "cell_type": "markdown",
   "metadata": {
    "run_control": {
     "marked": true
    }
   },
   "source": [
    "## Close Server Connection\n",
    "\n",
    "Finally, we should close the server connection when complete."
   ]
  },
  {
   "cell_type": "code",
   "execution_count": 7,
   "metadata": {
    "ExecuteTime": {
     "end_time": "2017-04-27T12:31:35.664647Z",
     "start_time": "2017-04-27T12:31:35.659370Z"
    },
    "collapsed": true
   },
   "outputs": [],
   "source": [
    "server.close()"
   ]
  },
  {
   "cell_type": "markdown",
   "metadata": {},
   "source": [
    "Please complete this exercise via SQLalchemy and Jupyter notebook.\n",
    "\n",
    "We will be working with the Lahman baseball data we uploaded to your AWS instance in class. \n",
    "\n",
    "\n",
    "1. What was the total spent on salaries by each team, each year?"
   ]
  },
  {
   "cell_type": "markdown",
   "metadata": {},
   "source": [
    "2. What is the first and last year played for each player? *Hint:* Create a new table from 'Fielding.csv'."
   ]
  },
  {
   "cell_type": "markdown",
   "metadata": {},
   "source": [
    "3. Who has played the most all star games?"
   ]
  },
  {
   "cell_type": "markdown",
   "metadata": {},
   "source": [
    "4. Which school has generated the most distinct players? *Hint:* Create new table from 'CollegePlaying.csv'."
   ]
  },
  {
   "cell_type": "markdown",
   "metadata": {},
   "source": [
    "5. Which players have the longest career? Assume that the `debut` and `finalGame` columns comprise the start and end, respectively, of a player's career. *Hint:* Create a new table from 'Master.csv'. Also note that strings can be converted to dates using the [`DATE`](https://wiki.postgresql.org/wiki/Working_with_Dates_and_Times_in_PostgreSQL#WORKING_with_DATETIME.2C_DATE.2C_and_INTERVAL_VALUES) function and can then be subtracted from each other yielding their difference in days."
   ]
  },
  {
   "cell_type": "markdown",
   "metadata": {},
   "source": [
    "6. What is the distribution of debut months? *Hint:* Look at the `DATE` and [`EXTRACT`](https://www.postgresql.org/docs/current/static/functions-datetime.html#FUNCTIONS-DATETIME-EXTRACT) functions."
   ]
  },
  {
   "cell_type": "markdown",
   "metadata": {},
   "source": [
    "7. What is the effect of table join order on mean salary for the players listed in the main (master) table? *Hint:* Perform two different queries, one that joins on playerID in the salary table and other that joins on the same column in the master table. You will have to use left joins for each since right joins are not currently supported with SQLalchemy."
   ]
  },
  {
   "cell_type": "markdown",
   "metadata": {},
   "source": [
    "# Soccer Questions - Part iii"
   ]
  },
  {
   "cell_type": "code",
   "execution_count": 1,
   "metadata": {},
   "outputs": [],
   "source": [
    "import sqlite3\n",
    "import pprint\n",
    "import pandas as pd"
   ]
  },
  {
   "cell_type": "code",
   "execution_count": 2,
   "metadata": {},
   "outputs": [],
   "source": [
    "pd.set_option(\"display.max_columns\",999)"
   ]
  },
  {
   "cell_type": "code",
   "execution_count": 3,
   "metadata": {},
   "outputs": [],
   "source": [
    "db = sqlite3.connect('soccerdb.sqlite')"
   ]
  },
  {
   "cell_type": "code",
   "execution_count": 4,
   "metadata": {},
   "outputs": [
    {
     "name": "stdout",
     "output_type": "stream",
     "text": [
      "[('sqlite_sequence',), ('Player_Attributes',), ('Player',), ('Match',), ('League',), ('Country',), ('Team',), ('Team_Attributes',)]\n"
     ]
    }
   ],
   "source": [
    "c = db.cursor()\n",
    "c.execute(\"SELECT name FROM sqlite_master WHERE type='table';\")\n",
    "print(c.fetchall())"
   ]
  },
  {
   "cell_type": "code",
   "execution_count": 5,
   "metadata": {},
   "outputs": [],
   "source": [
    "#list((c.execute(\"SELECT * FROM Player LIMIT 5\")))"
   ]
  },
  {
   "cell_type": "markdown",
   "metadata": {},
   "source": [
    "# See all tables"
   ]
  },
  {
   "cell_type": "code",
   "execution_count": 6,
   "metadata": {},
   "outputs": [],
   "source": [
    "# sqlquery = '''  SELECT *\n",
    "#                 FROM sqlite_sequence\n",
    "#                 LIMIT 1;'''\n",
    "            \n",
    "# pd.read_sql(sqlquery, db)\n",
    "\n",
    "# sqlquery = '''  SELECT *\n",
    "#                 FROM Player_Attributes\n",
    "#                 LIMIT 1;'''\n",
    "            \n",
    "# pd.read_sql(sqlquery, db)\n",
    "\n",
    "# sqlquery = '''  SELECT *\n",
    "#                 FROM Player\n",
    "#                 LIMIT 1;'''\n",
    "            \n",
    "# pd.read_sql(sqlquery, db)\n",
    "\n",
    "# sqlquery = '''  SELECT *\n",
    "#                 FROM Match\n",
    "#                 LIMIT 1;'''\n",
    "            \n",
    "# pd.read_sql(sqlquery, db)\n",
    "\n",
    "# sqlquery = '''  SELECT *\n",
    "#                 FROM League\n",
    "#                 LIMIT 1;'''\n",
    "            \n",
    "# pd.read_sql(sqlquery, db)\n",
    "\n",
    "# sqlquery = '''  SELECT *\n",
    "#                 FROM Country\n",
    "#                 LIMIT 1;'''\n",
    "            \n",
    "# pd.read_sql(sqlquery, db)\n",
    "\n",
    "# sqlquery = '''  SELECT *\n",
    "#                 FROM Team\n",
    "#                 LIMIT 1;'''\n",
    "            \n",
    "# pd.read_sql(sqlquery, db)\n",
    "\n",
    "# sqlquery = '''  SELECT *\n",
    "#                 FROM Team_Attributes\n",
    "#                 LIMIT 1;'''\n",
    "            \n",
    "# pd.read_sql(sqlquery, db)"
   ]
  },
  {
   "cell_type": "markdown",
   "metadata": {},
   "source": [
    "1. Which team scored the most points when playing at home?  "
   ]
  },
  {
   "cell_type": "code",
   "execution_count": 7,
   "metadata": {},
   "outputs": [
    {
     "data": {
      "text/html": [
       "<div>\n",
       "<style scoped>\n",
       "    .dataframe tbody tr th:only-of-type {\n",
       "        vertical-align: middle;\n",
       "    }\n",
       "\n",
       "    .dataframe tbody tr th {\n",
       "        vertical-align: top;\n",
       "    }\n",
       "\n",
       "    .dataframe thead th {\n",
       "        text-align: right;\n",
       "    }\n",
       "</style>\n",
       "<table border=\"1\" class=\"dataframe\">\n",
       "  <thead>\n",
       "    <tr style=\"text-align: right;\">\n",
       "      <th></th>\n",
       "      <th>goals</th>\n",
       "      <th>team</th>\n",
       "    </tr>\n",
       "  </thead>\n",
       "  <tbody>\n",
       "    <tr>\n",
       "      <th>0</th>\n",
       "      <td>505</td>\n",
       "      <td>Real Madrid CF</td>\n",
       "    </tr>\n",
       "  </tbody>\n",
       "</table>\n",
       "</div>"
      ],
      "text/plain": [
       "   goals            team\n",
       "0    505  Real Madrid CF"
      ]
     },
     "execution_count": 7,
     "metadata": {},
     "output_type": "execute_result"
    }
   ],
   "source": [
    "sqlquery = '''  SELECT SUM(home_team_goal) AS goals, team_long_name AS team\n",
    "                FROM Match AS m\n",
    "                JOIN Team AS t\n",
    "                On t.team_api_id = m.home_team_api_id\n",
    "                GROUP BY team\n",
    "                ORDER BY goals DESC\n",
    "                LIMIT 1;'''\n",
    "            \n",
    "pd.read_sql(sqlquery, db)"
   ]
  },
  {
   "cell_type": "markdown",
   "metadata": {},
   "source": [
    "2. Did this team also score the most points when playing away?  "
   ]
  },
  {
   "cell_type": "code",
   "execution_count": 8,
   "metadata": {},
   "outputs": [
    {
     "data": {
      "text/html": [
       "<div>\n",
       "<style scoped>\n",
       "    .dataframe tbody tr th:only-of-type {\n",
       "        vertical-align: middle;\n",
       "    }\n",
       "\n",
       "    .dataframe tbody tr th {\n",
       "        vertical-align: top;\n",
       "    }\n",
       "\n",
       "    .dataframe thead th {\n",
       "        text-align: right;\n",
       "    }\n",
       "</style>\n",
       "<table border=\"1\" class=\"dataframe\">\n",
       "  <thead>\n",
       "    <tr style=\"text-align: right;\">\n",
       "      <th></th>\n",
       "      <th>goals</th>\n",
       "      <th>team</th>\n",
       "    </tr>\n",
       "  </thead>\n",
       "  <tbody>\n",
       "    <tr>\n",
       "      <th>0</th>\n",
       "      <td>354</td>\n",
       "      <td>FC Barcelona</td>\n",
       "    </tr>\n",
       "  </tbody>\n",
       "</table>\n",
       "</div>"
      ],
      "text/plain": [
       "   goals          team\n",
       "0    354  FC Barcelona"
      ]
     },
     "execution_count": 8,
     "metadata": {},
     "output_type": "execute_result"
    }
   ],
   "source": [
    "sqlquery = '''  SELECT SUM(away_team_goal) AS goals, team_long_name AS team\n",
    "                FROM Match AS m\n",
    "                JOIN Team AS t\n",
    "                On t.team_api_id = m.away_team_api_id\n",
    "                GROUP BY team\n",
    "                ORDER BY goals DESC\n",
    "                LIMIT 1;'''\n",
    "            \n",
    "pd.read_sql(sqlquery, db)"
   ]
  },
  {
   "cell_type": "markdown",
   "metadata": {},
   "source": [
    "3. How many matches resulted in a tie?  "
   ]
  },
  {
   "cell_type": "code",
   "execution_count": 9,
   "metadata": {},
   "outputs": [
    {
     "data": {
      "text/html": [
       "<div>\n",
       "<style scoped>\n",
       "    .dataframe tbody tr th:only-of-type {\n",
       "        vertical-align: middle;\n",
       "    }\n",
       "\n",
       "    .dataframe tbody tr th {\n",
       "        vertical-align: top;\n",
       "    }\n",
       "\n",
       "    .dataframe thead th {\n",
       "        text-align: right;\n",
       "    }\n",
       "</style>\n",
       "<table border=\"1\" class=\"dataframe\">\n",
       "  <thead>\n",
       "    <tr style=\"text-align: right;\">\n",
       "      <th></th>\n",
       "      <th>Draws</th>\n",
       "    </tr>\n",
       "  </thead>\n",
       "  <tbody>\n",
       "    <tr>\n",
       "      <th>0</th>\n",
       "      <td>6596</td>\n",
       "    </tr>\n",
       "  </tbody>\n",
       "</table>\n",
       "</div>"
      ],
      "text/plain": [
       "   Draws\n",
       "0   6596"
      ]
     },
     "execution_count": 9,
     "metadata": {},
     "output_type": "execute_result"
    }
   ],
   "source": [
    "sqlquery = '''  SELECT COUNT() AS Draws\n",
    "                FROM Match\n",
    "                WHERE home_team_goal=away_team_goal;'''\n",
    "            \n",
    "pd.read_sql(sqlquery, db)"
   ]
  },
  {
   "cell_type": "markdown",
   "metadata": {},
   "source": [
    "4. How many players have Smith for their last name? How many have 'smith' anywhere in their name?"
   ]
  },
  {
   "cell_type": "code",
   "execution_count": 10,
   "metadata": {},
   "outputs": [
    {
     "data": {
      "text/html": [
       "<div>\n",
       "<style scoped>\n",
       "    .dataframe tbody tr th:only-of-type {\n",
       "        vertical-align: middle;\n",
       "    }\n",
       "\n",
       "    .dataframe tbody tr th {\n",
       "        vertical-align: top;\n",
       "    }\n",
       "\n",
       "    .dataframe thead th {\n",
       "        text-align: right;\n",
       "    }\n",
       "</style>\n",
       "<table border=\"1\" class=\"dataframe\">\n",
       "  <thead>\n",
       "    <tr style=\"text-align: right;\">\n",
       "      <th></th>\n",
       "      <th>COUNT(player_name)</th>\n",
       "    </tr>\n",
       "  </thead>\n",
       "  <tbody>\n",
       "    <tr>\n",
       "      <th>0</th>\n",
       "      <td>18</td>\n",
       "    </tr>\n",
       "  </tbody>\n",
       "</table>\n",
       "</div>"
      ],
      "text/plain": [
       "   COUNT(player_name)\n",
       "0                  18"
      ]
     },
     "execution_count": 10,
     "metadata": {},
     "output_type": "execute_result"
    }
   ],
   "source": [
    "# Smith for last name\n",
    "sqlquery = '''  SELECT COUNT(player_name)\n",
    "                FROM Player\n",
    "                WHERE player_name LIKE '%smith';\n",
    "                '''\n",
    "            \n",
    "pd.read_sql(sqlquery, db)"
   ]
  },
  {
   "cell_type": "code",
   "execution_count": 11,
   "metadata": {},
   "outputs": [
    {
     "data": {
      "text/html": [
       "<div>\n",
       "<style scoped>\n",
       "    .dataframe tbody tr th:only-of-type {\n",
       "        vertical-align: middle;\n",
       "    }\n",
       "\n",
       "    .dataframe tbody tr th {\n",
       "        vertical-align: top;\n",
       "    }\n",
       "\n",
       "    .dataframe thead th {\n",
       "        text-align: right;\n",
       "    }\n",
       "</style>\n",
       "<table border=\"1\" class=\"dataframe\">\n",
       "  <thead>\n",
       "    <tr style=\"text-align: right;\">\n",
       "      <th></th>\n",
       "      <th>COUNT(player_name)</th>\n",
       "    </tr>\n",
       "  </thead>\n",
       "  <tbody>\n",
       "    <tr>\n",
       "      <th>0</th>\n",
       "      <td>18</td>\n",
       "    </tr>\n",
       "  </tbody>\n",
       "</table>\n",
       "</div>"
      ],
      "text/plain": [
       "   COUNT(player_name)\n",
       "0                  18"
      ]
     },
     "execution_count": 11,
     "metadata": {},
     "output_type": "execute_result"
    }
   ],
   "source": [
    "# Smith anywhere in name\n",
    "sqlquery = '''  SELECT COUNT(player_name)\n",
    "                FROM Player\n",
    "                WHERE player_name LIKE '%smith';\n",
    "                '''\n",
    "            \n",
    "pd.read_sql(sqlquery, db)"
   ]
  },
  {
   "cell_type": "markdown",
   "metadata": {},
   "source": [
    "5. What was the median tie score? Use the value determined in the previous question for the number of tie games. *Hint:* PostgreSQL does not have a median function. Instead, think about the steps required to calculate a median and use the [`WITH`](https://www.postgresql.org/docs/8.4/static/queries-with.html) command to store stepwise results as a table and then operate on these results. "
   ]
  },
  {
   "cell_type": "code",
   "execution_count": 12,
   "metadata": {},
   "outputs": [],
   "source": [
    "# a median is the middle result when results are listed in \n",
    "# in order by ASC or DECS\n",
    "\n",
    "# There are 6596 draws\n",
    "# So I want the 3298 RESULT from all the 0-0, 1-1, 2-2, 3-3, etc"
   ]
  },
  {
   "cell_type": "code",
   "execution_count": 14,
   "metadata": {},
   "outputs": [
    {
     "data": {
      "text/html": [
       "<div>\n",
       "<style scoped>\n",
       "    .dataframe tbody tr th:only-of-type {\n",
       "        vertical-align: middle;\n",
       "    }\n",
       "\n",
       "    .dataframe tbody tr th {\n",
       "        vertical-align: top;\n",
       "    }\n",
       "\n",
       "    .dataframe thead th {\n",
       "        text-align: right;\n",
       "    }\n",
       "</style>\n",
       "<table border=\"1\" class=\"dataframe\">\n",
       "  <thead>\n",
       "    <tr style=\"text-align: right;\">\n",
       "      <th></th>\n",
       "      <th>home_team_goal</th>\n",
       "      <th>away_team_goal</th>\n",
       "    </tr>\n",
       "  </thead>\n",
       "  <tbody>\n",
       "    <tr>\n",
       "      <th>0</th>\n",
       "      <td>1</td>\n",
       "      <td>1</td>\n",
       "    </tr>\n",
       "  </tbody>\n",
       "</table>\n",
       "</div>"
      ],
      "text/plain": [
       "   home_team_goal  away_team_goal\n",
       "0               1               1"
      ]
     },
     "execution_count": 14,
     "metadata": {},
     "output_type": "execute_result"
    }
   ],
   "source": [
    "sqlquery = '''  WITH num_draws AS\n",
    "                       (SELECT Count() AS Draws\n",
    "                       FROM Match\n",
    "                       WHERE home_team_goal=away_team_goal),\n",
    "                     last_is_median AS\n",
    "                       (SELECT home_team_goal, away_team_goal\n",
    "                       FROM Match\n",
    "                       WHERE home_team_goal=away_team_goal\n",
    "                       ORDER BY home_team_goal\n",
    "                       LIMIT(SELECT * FROM num_draws)/2)\n",
    "                SELECT last_is_median.home_team_goal, last_is_median.away_team_goal\n",
    "                FROM last_is_median\n",
    "                ORDER BY last_is_median.home_team_goal DESC\n",
    "                LIMIT 1;\n",
    "                '''\n",
    "            \n",
    "pd.read_sql(sqlquery, db)"
   ]
  },
  {
   "cell_type": "markdown",
   "metadata": {},
   "source": [
    "6. What percentage of players prefer their left or right foot? *Hint:* Calculate either the right or left foot, whichever is easier based on how you setup the problem."
   ]
  },
  {
   "cell_type": "code",
   "execution_count": 119,
   "metadata": {},
   "outputs": [
    {
     "data": {
      "text/html": [
       "<div>\n",
       "<style scoped>\n",
       "    .dataframe tbody tr th:only-of-type {\n",
       "        vertical-align: middle;\n",
       "    }\n",
       "\n",
       "    .dataframe tbody tr th {\n",
       "        vertical-align: top;\n",
       "    }\n",
       "\n",
       "    .dataframe thead th {\n",
       "        text-align: right;\n",
       "    }\n",
       "</style>\n",
       "<table border=\"1\" class=\"dataframe\">\n",
       "  <thead>\n",
       "    <tr style=\"text-align: right;\">\n",
       "      <th></th>\n",
       "      <th>PercentLeft</th>\n",
       "    </tr>\n",
       "  </thead>\n",
       "  <tbody>\n",
       "    <tr>\n",
       "      <th>0</th>\n",
       "      <td>24.31432</td>\n",
       "    </tr>\n",
       "  </tbody>\n",
       "</table>\n",
       "</div>"
      ],
      "text/plain": [
       "   PercentLeft\n",
       "0     24.31432"
      ]
     },
     "execution_count": 119,
     "metadata": {},
     "output_type": "execute_result"
    }
   ],
   "source": [
    "# It appears some players prefer different feet at different points in time.\n",
    "# This query returns each of their \"apperances\" in the table as a different player.\n",
    "# Thus 24.31% of player \"snapshots\" have players preferring left feet.\n",
    "\n",
    "sqlquery = '''\n",
    "    SELECT COUNT(player_fifa_api_id) * 100.0 / (SELECT COUNT(player_fifa_api_id) FROM Player_Attributes) AS PercentLeft\n",
    "    FROM Player_Attributes\n",
    "    WHERE preferred_foot = 'left';   \n",
    "            '''\n",
    "pd.read_sql(sqlquery, db)"
   ]
  },
  {
   "cell_type": "markdown",
   "metadata": {},
   "source": [
    "# Tennis Questions - Part iv"
   ]
  },
  {
   "cell_type": "raw",
   "metadata": {},
   "source": [
    "*Intermediate - Advanced level SQL*\n",
    "\n",
    "---\n",
    "\n",
    "### Acquire data ###\n",
    "\n",
    "Let's get some data and start playing with it!\n",
    "\n",
    "We'll be using tennis data from [here](https://archive.ics.uci.edu/ml/datasets/Tennis+Major+Tournament+Match+Statistics).\n",
    "\n",
    "\n",
    "Assuming you are working on your AWS instance, execute the following from the BASH (shell) terminal:\n",
    "\n",
    "```bash\n",
    "mkdir -p tennis/data\n",
    "cd tennis/data\n",
    "wget http://archive.ics.uci.edu/ml/machine-learning-databases/00300/Tennis-Major-Tournaments-Match-Statistics.zip\n",
    "```\n",
    "\n",
    "You may not have `unzip` installed on your AWS instance:\n",
    "\n",
    "```bash\n",
    "sudo apt-get install unzip\n",
    "unzip Tennis-Major-Tournaments-Match-Statistics.zip\n",
    "```\n",
    "\n",
    "Before we start using SQL, open up the files with your favorite command line text editor and poke around!\n",
    "\n",
    "\n",
    "### Prepare the data ###\n",
    "\n",
    "The data has a mix of missing entries and entries that are the string `NA`. We'll use the command line program `sed` to fix that:\n",
    "\n",
    "```bash\n",
    "sed -i.bak s/NA//g AusOpen-women-2013.csv\n",
    "```\n",
    "\n",
    "Repeat this for each CSV file in the data set.\n",
    "\n",
    "### Import the data into PostgreSQL ###\n",
    "\n",
    "Now we start working in PostgreSQL. The remaining commands are executed from the SQL prompt.\n",
    "\n",
    "You can create a new database with `CREATE DATABASE tennis;` -- if we use `\\d`, we see there are not yet any tables (relations) in the database. So let's create one.\n",
    "\n",
    "We have to specify the schema of our table, with detail about [data types](http://www.postgresql.org/docs/9.3/static/datatype.html).\n",
    "\n",
    "```sql\n",
    "CREATE TABLE  aus_ladies_2013 (\n",
    "      player1 VARCHAR(255),\n",
    "      player2 VARCHAR(255),\n",
    "      round INT,\n",
    "      result INT,\n",
    "      fnl1 DOUBLE PRECISION,\n",
    "      fnl2 DOUBLE PRECISION,\n",
    "      fsp_1 DOUBLE PRECISION,\n",
    "      fsw_1 DOUBLE PRECISION,\n",
    "      ssp_1 DOUBLE PRECISION,\n",
    "      ssw_1 DOUBLE PRECISION,\n",
    "      ace_1 INT,\n",
    "      dbf_1 INT,\n",
    "      wnr_1 INT,\n",
    "      ufe_1 INT,\n",
    "      bpc_1 INT,\n",
    "      bpw_1 INT,\n",
    "      npa_1 INT,\n",
    "      npw_1 INT,\n",
    "      tpw_1 INT,\n",
    "      st1_1 INT,\n",
    "      st2_1 INT,\n",
    "      st3_1 INT,\n",
    "      st4_1 INT,\n",
    "      st5_1 INT,\n",
    "      fsp_2 DOUBLE PRECISION,\n",
    "      fsw_2 DOUBLE PRECISION,\n",
    "      ssp_2 DOUBLE PRECISION,\n",
    "      ssw_2 DOUBLE PRECISION,\n",
    "      ace_2 INT,\n",
    "      dbf_2 INT,\n",
    "      wnr_2 INT,\n",
    "      ufe_2 INT,\n",
    "      bpc_2 INT,\n",
    "      bpw_2 INT,\n",
    "      npa_2 INT,\n",
    "      npw_2 INT,\n",
    "      tpw_2 INT,\n",
    "      st1_2 INT,\n",
    "      st2_2 INT,\n",
    "      st3_2 INT,\n",
    "      st4_2 INT,\n",
    "      st5_2 INT);\n",
    "```\n",
    "\n",
    "Now load data from a CSV file into this table:\n",
    "\n",
    "```sql\n",
    "COPY \n",
    "      aus_ladies_2013\n",
    "FROM \n",
    "      '/home/my_user_name/tennis/data/AusOpen-women-2013.csv'\n",
    "DELIMITER \n",
    "      ','\n",
    "CSV HEADER;\n",
    "```\n",
    "\n",
    "Repeat this process for all of the other tables. *Hint:* You can make a new table with the same schema as an existing table. For example:\n",
    "\n",
    "```sql\n",
    "CREATE TABLE \n",
    "      aus_men_2013 \n",
    "(LIKE \n",
    "      aus_ladies_2013);\n",
    "```\n",
    "\n",
    "Extension: Can you make the tennis data tidy?\n",
    "\n",
    "\n",
    "### Some practice SQL queries ###\n",
    "\n",
    "The following SQL commands can be used to explore the data. To maximize understanding of the syntax, type these rather than copying and pasting.\n",
    "\n",
    "```sql\n",
    "SELECT \n",
    "      player1, player2, result \n",
    "FROM \n",
    "      us_men_2013 \n",
    "LIMIT 5;\n",
    "\n",
    "\n",
    "SELECT\n",
    "      player1, result \n",
    "FROM \n",
    "      us_men_2013 \n",
    "WHERE \n",
    "      player1 = 'Richard Gasquet';\n",
    "\n",
    "\n",
    "SELECT \n",
    "      player1, player2, result\n",
    "FROM\n",
    "      us_men_2013 \n",
    "WHERE \n",
    "      player1 = 'Richard Gasquet';\n",
    "\n",
    "\n",
    "SELECT\n",
    "      player1, player2, result \n",
    "FROM \n",
    "      us_men_2013 \n",
    "WHERE \n",
    "      player1 = 'Richard Gasquet' OR player2 = 'Richard Gasquet';\n",
    "\n",
    "\n",
    "SELECT \n",
    "      COUNT(*)\n",
    "FROM\n",
    "      us_men_2013;\n",
    "\n",
    "\n",
    "SELECT\n",
    "      player1, COUNT(*) \n",
    "FROM \n",
    "      us_men_2013 \n",
    "GROUP BY \n",
    "      player1;\n",
    "\n",
    "\n",
    "SELECT \n",
    "      player1, AVG(result) \n",
    "FROM \n",
    "      us_men_2013 \n",
    "GROUP BY\n",
    "      player1;\n",
    "\n",
    "\n",
    "SELECT \n",
    "      player1, player2, result \n",
    "FROM \n",
    "      us_men_2013 \n",
    "WHERE \n",
    "      result = 1 \n",
    "LIMIT 5;\n",
    "\n",
    "\n",
    "SELECT \n",
    "      COUNT(*) \n",
    "FROM \n",
    "      us_men_2013 \n",
    "WHERE \n",
    "      result = 1;\n",
    "\n",
    "\n",
    "SELECT \n",
    "      player1, player2, result \n",
    "FROM \n",
    "      french_men_2013 \n",
    "WHERE \n",
    "      result = 1 \n",
    "LIMIT 5;\n",
    "\n",
    "\n",
    "SELECT \n",
    "      us_men_2013.player1, us_men_2013.tpw_1, french_men_2013.tpw_1 \n",
    "FROM \n",
    "      us_men_2013, french_men_2013 \n",
    "WHERE \n",
    "      us_men_2013.player1 = french_men_2013.player1;\n",
    "\n",
    "\n",
    "SELECT \n",
    "      us_men_2013.player1, \n",
    "      SUM(us_men_2013.tpw_1) AS us_points, \n",
    "      SUM(french_men_2013.tpw_1) AS french_points\n",
    "FROM \n",
    "      us_men_2013, french_men_2013 \n",
    "WHERE \n",
    "      us_men_2013.player1 = french_men_2013.player1 \n",
    "GROUP BY \n",
    "      us_men_2013.player1;\n",
    "\n",
    "\n",
    "SELECT\n",
    "      us_men_2013.player1, \n",
    "      SUM(us_men_2013.tpw_1) AS us_points, \n",
    "      SUM(french_men_2013.tpw_1) AS french_points, \n",
    "      SUM(us_men_2013.tpw_1 + french_men_2013.tpw_1) AS total_points \n",
    "FROM\n",
    "      us_men_2013, french_men_2013 \n",
    "WHERE \n",
    "      us_men_2013.player1 = french_men_2013.player1\n",
    "GROUP BY\n",
    "      us_men_2013.player1;\n",
    "```\n",
    "\n",
    "\n",
    "## The challenges!\n",
    "\n",
    "This challenge uses only SQL queries. Please submit answers in a markdown file.\n",
    "\n",
    "1. Using the same tennis data, find the number of matches played by\n",
    "   each player in each tournament. (Remember that a player can be\n",
    "   present as both player1 or player2).\n",
    "\n",
    "2. Who has played the most matches total in all of US Open, AUST Open, \n",
    "   French Open? Answer this both for men and women.\n",
    "\n",
    "3. Who has the highest first serve percentage? (Just the maximum value\n",
    "   in a single match.)\n",
    "\n",
    "4. What are the unforced error percentages of the top three players\n",
    "   with the most wins? (Unforced error percentage is % of points lost\n",
    "   due to unforced errors. In a match, you have fields for number of\n",
    "   points won by each player, and number of unforced errors for each\n",
    "   field.)\n",
    "\n",
    "\n",
    "*Hint:* `SUM(double_faults)` sums the contents of an entire column. For each row, to add the field values from two columns, the syntax `SELECT name, double_faults + unforced_errors` can be used.\n",
    "\n",
    "\n",
    "*Special bonus hint:* To be careful about handling possible ties, consider using [rank functions](http://www.sql-tutorial.ru/en/book_rank_dense_rank_functions.html).\n"
   ]
  },
  {
   "cell_type": "code",
   "execution_count": null,
   "metadata": {},
   "outputs": [],
   "source": []
  }
 ],
 "metadata": {
  "kernelspec": {
   "display_name": "Python 3",
   "language": "python",
   "name": "python3"
  },
  "language_info": {
   "codemirror_mode": {
    "name": "ipython",
    "version": 3
   },
   "file_extension": ".py",
   "mimetype": "text/x-python",
   "name": "python",
   "nbconvert_exporter": "python",
   "pygments_lexer": "ipython3",
   "version": "3.6.6"
  },
  "toc-autonumbering": false
 },
 "nbformat": 4,
 "nbformat_minor": 2
}
