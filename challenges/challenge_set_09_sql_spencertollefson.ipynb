{
 "cells": [
  {
   "cell_type": "raw",
   "metadata": {},
   "source": [
    "Topic:        Challenge Set 9\n",
    "Subject:      SQL\n",
    "Date:         10/17/2018\n",
    "Name:         Spencer Tollefson\n",
    "Worked with:  N/A"
   ]
  },
  {
   "cell_type": "code",
   "execution_count": 1,
   "metadata": {},
   "outputs": [],
   "source": [
    "import sqlite3\n",
    "import pprint\n",
    "import pandas as pd"
   ]
  },
  {
   "cell_type": "code",
   "execution_count": 2,
   "metadata": {},
   "outputs": [],
   "source": [
    "pd.set_option(\"display.max_columns\",999)"
   ]
  },
  {
   "cell_type": "code",
   "execution_count": 3,
   "metadata": {},
   "outputs": [],
   "source": [
    "db = sqlite3.connect('soccerdb.sqlite')"
   ]
  },
  {
   "cell_type": "code",
   "execution_count": 4,
   "metadata": {},
   "outputs": [
    {
     "name": "stdout",
     "output_type": "stream",
     "text": [
      "[('sqlite_sequence',), ('Player_Attributes',), ('Player',), ('Match',), ('League',), ('Country',), ('Team',), ('Team_Attributes',)]\n"
     ]
    }
   ],
   "source": [
    "c = db.cursor()\n",
    "c.execute(\"SELECT name FROM sqlite_master WHERE type='table';\")\n",
    "print(c.fetchall())"
   ]
  },
  {
   "cell_type": "code",
   "execution_count": 5,
   "metadata": {},
   "outputs": [],
   "source": [
    "#list((c.execute(\"SELECT * FROM Player LIMIT 5\")))"
   ]
  },
  {
   "cell_type": "markdown",
   "metadata": {},
   "source": [
    "# Baseball Questions - Part ii"
   ]
  },
  {
   "cell_type": "markdown",
   "metadata": {},
   "source": [
    "# See all tables"
   ]
  },
  {
   "cell_type": "code",
   "execution_count": 6,
   "metadata": {},
   "outputs": [],
   "source": [
    "# sqlquery = '''  SELECT *\n",
    "#                 FROM sqlite_sequence\n",
    "#                 LIMIT 1;'''\n",
    "            \n",
    "# pd.read_sql(sqlquery, db)\n",
    "\n",
    "# sqlquery = '''  SELECT *\n",
    "#                 FROM Player_Attributes\n",
    "#                 LIMIT 1;'''\n",
    "            \n",
    "# pd.read_sql(sqlquery, db)\n",
    "\n",
    "# sqlquery = '''  SELECT *\n",
    "#                 FROM Player\n",
    "#                 LIMIT 1;'''\n",
    "            \n",
    "# pd.read_sql(sqlquery, db)\n",
    "\n",
    "# sqlquery = '''  SELECT *\n",
    "#                 FROM Match\n",
    "#                 LIMIT 1;'''\n",
    "            \n",
    "# pd.read_sql(sqlquery, db)\n",
    "\n",
    "# sqlquery = '''  SELECT *\n",
    "#                 FROM League\n",
    "#                 LIMIT 1;'''\n",
    "            \n",
    "# pd.read_sql(sqlquery, db)\n",
    "\n",
    "# sqlquery = '''  SELECT *\n",
    "#                 FROM Country\n",
    "#                 LIMIT 1;'''\n",
    "            \n",
    "# pd.read_sql(sqlquery, db)\n",
    "\n",
    "# sqlquery = '''  SELECT *\n",
    "#                 FROM Team\n",
    "#                 LIMIT 1;'''\n",
    "            \n",
    "# pd.read_sql(sqlquery, db)\n",
    "\n",
    "# sqlquery = '''  SELECT *\n",
    "#                 FROM Team_Attributes\n",
    "#                 LIMIT 1;'''\n",
    "            \n",
    "# pd.read_sql(sqlquery, db)"
   ]
  },
  {
   "cell_type": "markdown",
   "metadata": {},
   "source": [
    "1. Which team scored the most points when playing at home?  "
   ]
  },
  {
   "cell_type": "code",
   "execution_count": 7,
   "metadata": {},
   "outputs": [
    {
     "data": {
      "text/html": [
       "<div>\n",
       "<style scoped>\n",
       "    .dataframe tbody tr th:only-of-type {\n",
       "        vertical-align: middle;\n",
       "    }\n",
       "\n",
       "    .dataframe tbody tr th {\n",
       "        vertical-align: top;\n",
       "    }\n",
       "\n",
       "    .dataframe thead th {\n",
       "        text-align: right;\n",
       "    }\n",
       "</style>\n",
       "<table border=\"1\" class=\"dataframe\">\n",
       "  <thead>\n",
       "    <tr style=\"text-align: right;\">\n",
       "      <th></th>\n",
       "      <th>goals</th>\n",
       "      <th>team</th>\n",
       "    </tr>\n",
       "  </thead>\n",
       "  <tbody>\n",
       "    <tr>\n",
       "      <th>0</th>\n",
       "      <td>505</td>\n",
       "      <td>Real Madrid CF</td>\n",
       "    </tr>\n",
       "  </tbody>\n",
       "</table>\n",
       "</div>"
      ],
      "text/plain": [
       "   goals            team\n",
       "0    505  Real Madrid CF"
      ]
     },
     "execution_count": 7,
     "metadata": {},
     "output_type": "execute_result"
    }
   ],
   "source": [
    "sqlquery = '''  SELECT SUM(home_team_goal) AS goals, team_long_name AS team\n",
    "                FROM Match AS m\n",
    "                JOIN Team AS t\n",
    "                On t.team_api_id = m.home_team_api_id\n",
    "                GROUP BY team\n",
    "                ORDER BY goals DESC\n",
    "                LIMIT 1;'''\n",
    "            \n",
    "pd.read_sql(sqlquery, db)"
   ]
  },
  {
   "cell_type": "markdown",
   "metadata": {},
   "source": [
    "2. Did this team also score the most points when playing away?  "
   ]
  },
  {
   "cell_type": "code",
   "execution_count": 8,
   "metadata": {},
   "outputs": [
    {
     "data": {
      "text/html": [
       "<div>\n",
       "<style scoped>\n",
       "    .dataframe tbody tr th:only-of-type {\n",
       "        vertical-align: middle;\n",
       "    }\n",
       "\n",
       "    .dataframe tbody tr th {\n",
       "        vertical-align: top;\n",
       "    }\n",
       "\n",
       "    .dataframe thead th {\n",
       "        text-align: right;\n",
       "    }\n",
       "</style>\n",
       "<table border=\"1\" class=\"dataframe\">\n",
       "  <thead>\n",
       "    <tr style=\"text-align: right;\">\n",
       "      <th></th>\n",
       "      <th>goals</th>\n",
       "      <th>team</th>\n",
       "    </tr>\n",
       "  </thead>\n",
       "  <tbody>\n",
       "    <tr>\n",
       "      <th>0</th>\n",
       "      <td>354</td>\n",
       "      <td>FC Barcelona</td>\n",
       "    </tr>\n",
       "  </tbody>\n",
       "</table>\n",
       "</div>"
      ],
      "text/plain": [
       "   goals          team\n",
       "0    354  FC Barcelona"
      ]
     },
     "execution_count": 8,
     "metadata": {},
     "output_type": "execute_result"
    }
   ],
   "source": [
    "sqlquery = '''  SELECT SUM(away_team_goal) AS goals, team_long_name AS team\n",
    "                FROM Match AS m\n",
    "                JOIN Team AS t\n",
    "                On t.team_api_id = m.away_team_api_id\n",
    "                GROUP BY team\n",
    "                ORDER BY goals DESC\n",
    "                LIMIT 1;'''\n",
    "            \n",
    "pd.read_sql(sqlquery, db)"
   ]
  },
  {
   "cell_type": "markdown",
   "metadata": {},
   "source": [
    "3. How many matches resulted in a tie?  "
   ]
  },
  {
   "cell_type": "code",
   "execution_count": 9,
   "metadata": {},
   "outputs": [
    {
     "data": {
      "text/html": [
       "<div>\n",
       "<style scoped>\n",
       "    .dataframe tbody tr th:only-of-type {\n",
       "        vertical-align: middle;\n",
       "    }\n",
       "\n",
       "    .dataframe tbody tr th {\n",
       "        vertical-align: top;\n",
       "    }\n",
       "\n",
       "    .dataframe thead th {\n",
       "        text-align: right;\n",
       "    }\n",
       "</style>\n",
       "<table border=\"1\" class=\"dataframe\">\n",
       "  <thead>\n",
       "    <tr style=\"text-align: right;\">\n",
       "      <th></th>\n",
       "      <th>Draws</th>\n",
       "    </tr>\n",
       "  </thead>\n",
       "  <tbody>\n",
       "    <tr>\n",
       "      <th>0</th>\n",
       "      <td>6596</td>\n",
       "    </tr>\n",
       "  </tbody>\n",
       "</table>\n",
       "</div>"
      ],
      "text/plain": [
       "   Draws\n",
       "0   6596"
      ]
     },
     "execution_count": 9,
     "metadata": {},
     "output_type": "execute_result"
    }
   ],
   "source": [
    "sqlquery = '''  SELECT COUNT() AS Draws\n",
    "                FROM Match\n",
    "                WHERE home_team_goal=away_team_goal;'''\n",
    "            \n",
    "pd.read_sql(sqlquery, db)"
   ]
  },
  {
   "cell_type": "markdown",
   "metadata": {},
   "source": [
    "4. How many players have Smith for their last name? How many have 'smith' anywhere in their name?"
   ]
  },
  {
   "cell_type": "code",
   "execution_count": 10,
   "metadata": {},
   "outputs": [
    {
     "data": {
      "text/html": [
       "<div>\n",
       "<style scoped>\n",
       "    .dataframe tbody tr th:only-of-type {\n",
       "        vertical-align: middle;\n",
       "    }\n",
       "\n",
       "    .dataframe tbody tr th {\n",
       "        vertical-align: top;\n",
       "    }\n",
       "\n",
       "    .dataframe thead th {\n",
       "        text-align: right;\n",
       "    }\n",
       "</style>\n",
       "<table border=\"1\" class=\"dataframe\">\n",
       "  <thead>\n",
       "    <tr style=\"text-align: right;\">\n",
       "      <th></th>\n",
       "      <th>COUNT(player_name)</th>\n",
       "    </tr>\n",
       "  </thead>\n",
       "  <tbody>\n",
       "    <tr>\n",
       "      <th>0</th>\n",
       "      <td>18</td>\n",
       "    </tr>\n",
       "  </tbody>\n",
       "</table>\n",
       "</div>"
      ],
      "text/plain": [
       "   COUNT(player_name)\n",
       "0                  18"
      ]
     },
     "execution_count": 10,
     "metadata": {},
     "output_type": "execute_result"
    }
   ],
   "source": [
    "# Smith for last name\n",
    "sqlquery = '''  SELECT COUNT(player_name)\n",
    "                FROM Player\n",
    "                WHERE player_name LIKE '%smith';\n",
    "                '''\n",
    "            \n",
    "pd.read_sql(sqlquery, db)"
   ]
  },
  {
   "cell_type": "code",
   "execution_count": 11,
   "metadata": {},
   "outputs": [
    {
     "data": {
      "text/html": [
       "<div>\n",
       "<style scoped>\n",
       "    .dataframe tbody tr th:only-of-type {\n",
       "        vertical-align: middle;\n",
       "    }\n",
       "\n",
       "    .dataframe tbody tr th {\n",
       "        vertical-align: top;\n",
       "    }\n",
       "\n",
       "    .dataframe thead th {\n",
       "        text-align: right;\n",
       "    }\n",
       "</style>\n",
       "<table border=\"1\" class=\"dataframe\">\n",
       "  <thead>\n",
       "    <tr style=\"text-align: right;\">\n",
       "      <th></th>\n",
       "      <th>COUNT(player_name)</th>\n",
       "    </tr>\n",
       "  </thead>\n",
       "  <tbody>\n",
       "    <tr>\n",
       "      <th>0</th>\n",
       "      <td>18</td>\n",
       "    </tr>\n",
       "  </tbody>\n",
       "</table>\n",
       "</div>"
      ],
      "text/plain": [
       "   COUNT(player_name)\n",
       "0                  18"
      ]
     },
     "execution_count": 11,
     "metadata": {},
     "output_type": "execute_result"
    }
   ],
   "source": [
    "# Smith anywhere in name\n",
    "sqlquery = '''  SELECT COUNT(player_name)\n",
    "                FROM Player\n",
    "                WHERE player_name LIKE '%smith';\n",
    "                '''\n",
    "            \n",
    "pd.read_sql(sqlquery, db)"
   ]
  },
  {
   "cell_type": "markdown",
   "metadata": {},
   "source": [
    "5. What was the median tie score? Use the value determined in the previous question for the number of tie games. *Hint:* PostgreSQL does not have a median function. Instead, think about the steps required to calculate a median and use the [`WITH`](https://www.postgresql.org/docs/8.4/static/queries-with.html) command to store stepwise results as a table and then operate on these results. "
   ]
  },
  {
   "cell_type": "code",
   "execution_count": 12,
   "metadata": {},
   "outputs": [],
   "source": [
    "# a median is the middle result when results are listed in \n",
    "# in order by ASC or DECS\n",
    "\n",
    "# There are 6596 draws\n",
    "# So I want the 3298 RESULT from all the 0-0, 1-1, 2-2, 3-3, etc"
   ]
  },
  {
   "cell_type": "code",
   "execution_count": 13,
   "metadata": {},
   "outputs": [
    {
     "data": {
      "text/plain": [
       "3298.0"
      ]
     },
     "execution_count": 13,
     "metadata": {},
     "output_type": "execute_result"
    }
   ],
   "source": [
    "6596/2"
   ]
  },
  {
   "cell_type": "code",
   "execution_count": 14,
   "metadata": {},
   "outputs": [
    {
     "data": {
      "text/html": [
       "<div>\n",
       "<style scoped>\n",
       "    .dataframe tbody tr th:only-of-type {\n",
       "        vertical-align: middle;\n",
       "    }\n",
       "\n",
       "    .dataframe tbody tr th {\n",
       "        vertical-align: top;\n",
       "    }\n",
       "\n",
       "    .dataframe thead th {\n",
       "        text-align: right;\n",
       "    }\n",
       "</style>\n",
       "<table border=\"1\" class=\"dataframe\">\n",
       "  <thead>\n",
       "    <tr style=\"text-align: right;\">\n",
       "      <th></th>\n",
       "      <th>home_team_goal</th>\n",
       "      <th>away_team_goal</th>\n",
       "    </tr>\n",
       "  </thead>\n",
       "  <tbody>\n",
       "    <tr>\n",
       "      <th>0</th>\n",
       "      <td>1</td>\n",
       "      <td>1</td>\n",
       "    </tr>\n",
       "  </tbody>\n",
       "</table>\n",
       "</div>"
      ],
      "text/plain": [
       "   home_team_goal  away_team_goal\n",
       "0               1               1"
      ]
     },
     "execution_count": 14,
     "metadata": {},
     "output_type": "execute_result"
    }
   ],
   "source": [
    "sqlquery = '''  WITH num_draws AS\n",
    "                       (SELECT Count() AS Draws\n",
    "                       FROM Match\n",
    "                       WHERE home_team_goal=away_team_goal),\n",
    "                     last_is_median AS\n",
    "                       (SELECT home_team_goal, away_team_goal\n",
    "                       FROM Match\n",
    "                       WHERE home_team_goal=away_team_goal\n",
    "                       ORDER BY home_team_goal\n",
    "                       LIMIT(SELECT * FROM num_draws)/2)\n",
    "                SELECT last_is_median.home_team_goal, last_is_median.away_team_goal\n",
    "                FROM last_is_median\n",
    "                ORDER BY last_is_median.home_team_goal DESC\n",
    "                LIMIT 1;\n",
    "                '''\n",
    "            \n",
    "pd.read_sql(sqlquery, db)"
   ]
  },
  {
   "cell_type": "markdown",
   "metadata": {},
   "source": [
    "6. What percentage of players prefer their left or right foot? *Hint:* Calculate either the right or left foot, whichever is easier based on how you setup the problem."
   ]
  },
  {
   "cell_type": "code",
   "execution_count": 119,
   "metadata": {},
   "outputs": [
    {
     "data": {
      "text/html": [
       "<div>\n",
       "<style scoped>\n",
       "    .dataframe tbody tr th:only-of-type {\n",
       "        vertical-align: middle;\n",
       "    }\n",
       "\n",
       "    .dataframe tbody tr th {\n",
       "        vertical-align: top;\n",
       "    }\n",
       "\n",
       "    .dataframe thead th {\n",
       "        text-align: right;\n",
       "    }\n",
       "</style>\n",
       "<table border=\"1\" class=\"dataframe\">\n",
       "  <thead>\n",
       "    <tr style=\"text-align: right;\">\n",
       "      <th></th>\n",
       "      <th>PercentLeft</th>\n",
       "    </tr>\n",
       "  </thead>\n",
       "  <tbody>\n",
       "    <tr>\n",
       "      <th>0</th>\n",
       "      <td>24.31432</td>\n",
       "    </tr>\n",
       "  </tbody>\n",
       "</table>\n",
       "</div>"
      ],
      "text/plain": [
       "   PercentLeft\n",
       "0     24.31432"
      ]
     },
     "execution_count": 119,
     "metadata": {},
     "output_type": "execute_result"
    }
   ],
   "source": [
    "# It appears some players prefer different feet at different points in time.\n",
    "# This query returns each of their \"apperances\" in the table as a different player.\n",
    "# Thus 24.31% of player \"snapshots\" have players preferring left feet.\n",
    "\n",
    "sqlquery = '''\n",
    "    SELECT COUNT(player_fifa_api_id) * 100.0 / (SELECT COUNT(player_fifa_api_id) FROM Player_Attributes) AS PercentLeft\n",
    "    FROM Player_Attributes\n",
    "    WHERE preferred_foot = 'left';   \n",
    "            '''\n",
    "pd.read_sql(sqlquery, db)"
   ]
  }
 ],
 "metadata": {
  "kernelspec": {
   "display_name": "Python 3",
   "language": "python",
   "name": "python3"
  },
  "language_info": {
   "codemirror_mode": {
    "name": "ipython",
    "version": 3
   },
   "file_extension": ".py",
   "mimetype": "text/x-python",
   "name": "python",
   "nbconvert_exporter": "python",
   "pygments_lexer": "ipython3",
   "version": "3.6.6"
  }
 },
 "nbformat": 4,
 "nbformat_minor": 2
}
