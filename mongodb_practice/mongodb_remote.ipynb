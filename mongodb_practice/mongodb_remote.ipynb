{
 "cells": [
  {
   "cell_type": "markdown",
   "metadata": {},
   "source": [
    "Test the import"
   ]
  },
  {
   "cell_type": "code",
   "execution_count": 1,
   "metadata": {
    "collapsed": true
   },
   "outputs": [],
   "source": [
    "from pymongo import MongoClient"
   ]
  },
  {
   "cell_type": "markdown",
   "metadata": {},
   "source": [
    "Let's create our Mongo Client, using the port that we specified in our ssh tunnel"
   ]
  },
  {
   "cell_type": "code",
   "execution_count": 2,
   "metadata": {
    "collapsed": true
   },
   "outputs": [],
   "source": [
    "client = MongoClient(port=12345) # this is the port set by the SSH tunnel\n",
    "db = client.new_cool_db"
   ]
  },
  {
   "cell_type": "code",
   "execution_count": 4,
   "metadata": {},
   "outputs": [
    {
     "name": "stdout",
     "output_type": "stream",
     "text": [
      "['testData']\n"
     ]
    }
   ],
   "source": [
    "# print collection names\n",
    "print(db.list_collection_names())"
   ]
  },
  {
   "cell_type": "markdown",
   "metadata": {},
   "source": [
    "This is the data we added when we were playing around"
   ]
  },
  {
   "cell_type": "code",
   "execution_count": 5,
   "metadata": {},
   "outputs": [
    {
     "name": "stdout",
     "output_type": "stream",
     "text": [
      "{'_id': ObjectId('5bdb382c7f331e9bf65d90d5'), 'name': 'Eddie'}\n",
      "{'_id': ObjectId('5bdb38317f331e9bf65d90d6'), 'name': 'Felicity'}\n",
      "{'_id': ObjectId('5bdb38377f331e9bf65d90d7'), 'nationality': 'British'}\n",
      "{'_id': ObjectId('5bdb38e97f331e9bf65d90d8'), 'x': 1.0}\n",
      "{'_id': ObjectId('5bdb38e97f331e9bf65d90d9'), 'x': 2.0}\n",
      "{'_id': ObjectId('5bdb38e97f331e9bf65d90da'), 'x': 3.0}\n",
      "{'_id': ObjectId('5bdb38e97f331e9bf65d90db'), 'x': 4.0}\n",
      "{'_id': ObjectId('5bdb38e97f331e9bf65d90dc'), 'x': 5.0}\n",
      "{'_id': ObjectId('5bdb38e97f331e9bf65d90dd'), 'x': 6.0}\n",
      "{'_id': ObjectId('5bdb38e97f331e9bf65d90de'), 'x': 7.0}\n",
      "{'_id': ObjectId('5bdb38e97f331e9bf65d90df'), 'x': 8.0}\n",
      "{'_id': ObjectId('5bdb38e97f331e9bf65d90e0'), 'x': 9.0}\n",
      "{'_id': ObjectId('5bdb38e97f331e9bf65d90e1'), 'x': 10.0}\n",
      "{'_id': ObjectId('5bdb38e97f331e9bf65d90e2'), 'x': 11.0}\n",
      "{'_id': ObjectId('5bdb38e97f331e9bf65d90e3'), 'x': 12.0}\n",
      "{'_id': ObjectId('5bdb38e97f331e9bf65d90e4'), 'x': 13.0}\n",
      "{'_id': ObjectId('5bdb38e97f331e9bf65d90e5'), 'x': 14.0}\n",
      "{'_id': ObjectId('5bdb38e97f331e9bf65d90e6'), 'x': 15.0}\n",
      "{'_id': ObjectId('5bdb38e97f331e9bf65d90e7'), 'x': 16.0}\n",
      "{'_id': ObjectId('5bdb38e97f331e9bf65d90e8'), 'x': 17.0}\n",
      "{'_id': ObjectId('5bdb38e97f331e9bf65d90e9'), 'x': 18.0}\n",
      "{'_id': ObjectId('5bdb38e97f331e9bf65d90ea'), 'x': 19.0}\n",
      "{'_id': ObjectId('5bdb38e97f331e9bf65d90eb'), 'x': 20.0}\n",
      "{'_id': ObjectId('5bdb38e97f331e9bf65d90ec'), 'x': 21.0}\n",
      "{'_id': ObjectId('5bdb38e97f331e9bf65d90ed'), 'x': 22.0}\n",
      "{'_id': ObjectId('5bdb38e97f331e9bf65d90ee'), 'x': 23.0}\n",
      "{'_id': ObjectId('5bdb38e97f331e9bf65d90ef'), 'x': 24.0}\n",
      "{'_id': ObjectId('5bdb38e97f331e9bf65d90f0'), 'x': 25.0}\n"
     ]
    }
   ],
   "source": [
    "col = db.testData\n",
    "col\n",
    "\n",
    "# print each document\n",
    "for x in col.find():\n",
    "     print(x)"
   ]
  },
  {
   "cell_type": "markdown",
   "metadata": {},
   "source": [
    "### Bring in the heavy metal movies data\n",
    "\n",
    "Let's now bring in the heavy metal movies data. It is contained in the `heavy_metal.parsed.pkl.zip` file. Let's unzip that data **in your home folder** so that it doesn't mess things up for git."
   ]
  },
  {
   "cell_type": "code",
   "execution_count": 8,
   "metadata": {},
   "outputs": [
    {
     "name": "stdout",
     "output_type": "stream",
     "text": [
      "mongodb_remote.ipynb\n"
     ]
    }
   ],
   "source": [
    "!ls"
   ]
  },
  {
   "cell_type": "code",
   "execution_count": 6,
   "metadata": {
    "collapsed": true
   },
   "outputs": [
    {
     "name": "stdout",
     "output_type": "stream",
     "text": [
      "Archive:  /home/spencer/heavy_metal_parsed.pkl.zip\n",
      "  inflating: /home/spencer/heavy_metal_parsed.pkl  \n"
     ]
    }
   ],
   "source": [
    "challenges_data_path = '/home/spencer/projects/Metis/sea18_ds6/challenges/challenges_data'\n",
    "\n",
    "!cp {challenges_data_path}/heavy_metal_parsed.pkl.zip ~\n",
    "!unzip ~/heavy_metal_parsed.pkl.zip -d ~"
   ]
  },
  {
   "cell_type": "markdown",
   "metadata": {},
   "source": [
    "### Load the dataset and explore"
   ]
  },
  {
   "cell_type": "code",
   "execution_count": 9,
   "metadata": {
    "collapsed": true
   },
   "outputs": [],
   "source": [
    "import pickle as pkl\n",
    "with open('/home/spencer/projects/Metis/deliverables-metis/mongodb_practice/heavy_metal_parsed.pkl', 'rb') as infile:\n",
    "    reviews = pkl.load(infile)"
   ]
  },
  {
   "cell_type": "code",
   "execution_count": 10,
   "metadata": {},
   "outputs": [
    {
     "data": {
      "text/plain": [
       "dict_keys(['raw', 'head', 'metal_cred', 'title', 'direct', 'solid_metal_nuggets', 'cast', 'the_meat', 'year', 'sections'])"
      ]
     },
     "execution_count": 10,
     "metadata": {},
     "output_type": "execute_result"
    }
   ],
   "source": [
    "reviews[0].keys()"
   ]
  },
  {
   "cell_type": "code",
   "execution_count": 23,
   "metadata": {
    "scrolled": true
   },
   "outputs": [
    {
     "data": {
      "text/plain": [
       "{'raw': ['200 MOTELS (1971)',\n",
       "  'DIRECTORS: Tony Palmer, Frank Zappa',\n",
       "  'CAST: Frank Zappa, Ringo Starr, Mark Volman, Howard Kaylan, Keith\\nMoon',\n",
       "  'METAL CRED',\n",
       "  'Frank Zappa',\n",
       "  'Nun Desecration',\n",
       "  'THE MEAT',\n",
       "  'Beyond his metal sainthood for\\nbattling the censor-witches of the PMRC and getting named checked by Deep\\nPurple in “Smoke on the Water”, musical visionary Frank Zappa led many rock\\nfans to heavy metal.',\n",
       "  'And, from there, he led many metal\\nfans to the outer expanses of rock’s possibilities.',\n",
       "  'Zappa also opened countless banging\\nheads to the far reaches of jazz, classical, doo-wop, and any other art form\\nthat could involve (brilliant) noise and (brilliantly dumb) dirty jokes.',\n",
       "  '200\\nMotels is Zappa’s first crack at major motion picture madness, and it\\nembodies the much forgotten cultural moment when acid rock tumbled forever into\\nthe black pits of rising heavy metal.',\n",
       "  'Surrealistic sketches and\\npsychedelic set pieces about the insanity of a being on tour are interspersed\\namong performances in which the Mothers jam with London Philharmonic.',\n",
       "  'Ringo Starr plays Zappa during the\\ntalking parts. Zappa himself, plays guitar throughout, demonstrating how very\\nmuch of a six-string maestro he was, every lick on par with his future\\ncollaborators Steve Vail and Yngwie Malmsteen.',\n",
       "  'SOLID METAL NUGGETS',\n",
       "  '• A psychedelic cartoon interlude\\nadmiringly tweaks Black Sabbath and Grand Funk Railroad.',\n",
       "  '• Keith Moon, madman drummer of the\\nWho, pops up—and off—as “The Hot Nun.”'],\n",
       " 'head': ['200 MOTELS (1971)',\n",
       "  'DIRECTORS: Tony Palmer, Frank Zappa',\n",
       "  'CAST: Frank Zappa, Ringo Starr, Mark Volman, Howard Kaylan, Keith\\nMoon'],\n",
       " 'metal_cred': ['METAL CRED', 'Frank Zappa', 'Nun Desecration'],\n",
       " 'title': '200 MOTELS',\n",
       " 'direct': ['Tony Palmer', 'Frank Zappa'],\n",
       " 'solid_metal_nuggets': ['SOLID METAL NUGGETS',\n",
       "  '• A psychedelic cartoon interlude\\nadmiringly tweaks Black Sabbath and Grand Funk Railroad.',\n",
       "  '• Keith Moon, madman drummer of the\\nWho, pops up—and off—as “The Hot Nun.”'],\n",
       " 'cast': ['Frank Zappa',\n",
       "  'Ringo Starr',\n",
       "  'Mark Volman',\n",
       "  'Howard Kaylan',\n",
       "  'Keith Moon'],\n",
       " 'the_meat': ['THE MEAT',\n",
       "  'Beyond his metal sainthood for\\nbattling the censor-witches of the PMRC and getting named checked by Deep\\nPurple in “Smoke on the Water”, musical visionary Frank Zappa led many rock\\nfans to heavy metal.',\n",
       "  'And, from there, he led many metal\\nfans to the outer expanses of rock’s possibilities.',\n",
       "  'Zappa also opened countless banging\\nheads to the far reaches of jazz, classical, doo-wop, and any other art form\\nthat could involve (brilliant) noise and (brilliantly dumb) dirty jokes.',\n",
       "  '200\\nMotels is Zappa’s first crack at major motion picture madness, and it\\nembodies the much forgotten cultural moment when acid rock tumbled forever into\\nthe black pits of rising heavy metal.',\n",
       "  'Surrealistic sketches and\\npsychedelic set pieces about the insanity of a being on tour are interspersed\\namong performances in which the Mothers jam with London Philharmonic.',\n",
       "  'Ringo Starr plays Zappa during the\\ntalking parts. Zappa himself, plays guitar throughout, demonstrating how very\\nmuch of a six-string maestro he was, every lick on par with his future\\ncollaborators Steve Vail and Yngwie Malmsteen.'],\n",
       " 'year': 1971,\n",
       " 'sections': [['200 MOTELS (1971)',\n",
       "   'DIRECTORS: Tony Palmer, Frank Zappa',\n",
       "   'CAST: Frank Zappa, Ringo Starr, Mark Volman, Howard Kaylan, Keith\\nMoon'],\n",
       "  ['METAL CRED', 'Frank Zappa', 'Nun Desecration'],\n",
       "  ['THE MEAT',\n",
       "   'Beyond his metal sainthood for\\nbattling the censor-witches of the PMRC and getting named checked by Deep\\nPurple in “Smoke on the Water”, musical visionary Frank Zappa led many rock\\nfans to heavy metal.',\n",
       "   'And, from there, he led many metal\\nfans to the outer expanses of rock’s possibilities.',\n",
       "   'Zappa also opened countless banging\\nheads to the far reaches of jazz, classical, doo-wop, and any other art form\\nthat could involve (brilliant) noise and (brilliantly dumb) dirty jokes.',\n",
       "   '200\\nMotels is Zappa’s first crack at major motion picture madness, and it\\nembodies the much forgotten cultural moment when acid rock tumbled forever into\\nthe black pits of rising heavy metal.',\n",
       "   'Surrealistic sketches and\\npsychedelic set pieces about the insanity of a being on tour are interspersed\\namong performances in which the Mothers jam with London Philharmonic.',\n",
       "   'Ringo Starr plays Zappa during the\\ntalking parts. Zappa himself, plays guitar throughout, demonstrating how very\\nmuch of a six-string maestro he was, every lick on par with his future\\ncollaborators Steve Vail and Yngwie Malmsteen.'],\n",
       "  ['SOLID METAL NUGGETS',\n",
       "   '• A psychedelic cartoon interlude\\nadmiringly tweaks Black Sabbath and Grand Funk Railroad.',\n",
       "   '• Keith Moon, madman drummer of the\\nWho, pops up—and off—as “The Hot Nun.”']]}"
      ]
     },
     "execution_count": 23,
     "metadata": {},
     "output_type": "execute_result"
    }
   ],
   "source": [
    "reviews[0]"
   ]
  },
  {
   "cell_type": "code",
   "execution_count": 16,
   "metadata": {},
   "outputs": [
    {
     "data": {
      "text/plain": [
       "856"
      ]
     },
     "execution_count": 16,
     "metadata": {},
     "output_type": "execute_result"
    }
   ],
   "source": [
    "len(reviews)"
   ]
  },
  {
   "cell_type": "code",
   "execution_count": 24,
   "metadata": {},
   "outputs": [
    {
     "data": {
      "text/plain": [
       "'CHIMAIRA: THE DEHUMANIZING PROCESS'"
      ]
     },
     "execution_count": 24,
     "metadata": {},
     "output_type": "execute_result"
    }
   ],
   "source": [
    "reviews[123]['title']"
   ]
  },
  {
   "cell_type": "code",
   "execution_count": 25,
   "metadata": {},
   "outputs": [
    {
     "data": {
      "text/plain": [
       "['THE MEAT',\n",
       " 'Cleveland groove-metal stompers\\nChimaira practice relentlessly, play ruthlessly, and talk loud in the “video\\nalbum” Chimaira: The Dehumanizing\\nProcess.',\n",
       " 'Between exceptionally\\nwell-presented songs, band members recount their history, ruminate on their\\nvarious processes, and sound off about their horror over being lumped in among\\n“nü-metal” rap-rockers around the turn of the century.',\n",
       " 'After each gripe, Chimaira launches\\ninto a wall-of-hurt sound-storm in order to clarify the distance between what\\nthey do and, say, Linkin Park.',\n",
       " 'Point taken. Hard.']"
      ]
     },
     "execution_count": 25,
     "metadata": {},
     "output_type": "execute_result"
    }
   ],
   "source": [
    "reviews[123]['the_meat']"
   ]
  },
  {
   "cell_type": "markdown",
   "metadata": {},
   "source": [
    "### Add this data to our remote database\n",
    "\n",
    "Let's start by adding one entry to the **collection** (table) `hmm` and analyzing."
   ]
  },
  {
   "cell_type": "code",
   "execution_count": 26,
   "metadata": {},
   "outputs": [
    {
     "data": {
      "text/plain": [
       "<pymongo.results.InsertOneResult at 0x7f6fc92cc648>"
      ]
     },
     "execution_count": 26,
     "metadata": {},
     "output_type": "execute_result"
    }
   ],
   "source": [
    "hmm = client.new_cool_db.hmm\n",
    "hmm.insert_one(reviews[0])"
   ]
  },
  {
   "cell_type": "code",
   "execution_count": 27,
   "metadata": {
    "scrolled": true
   },
   "outputs": [
    {
     "data": {
      "text/plain": [
       "{'_id': ObjectId('5bdb3c2cfb0d277b43e9f770'),\n",
       " 'raw': ['200 MOTELS (1971)',\n",
       "  'DIRECTORS: Tony Palmer, Frank Zappa',\n",
       "  'CAST: Frank Zappa, Ringo Starr, Mark Volman, Howard Kaylan, Keith\\nMoon',\n",
       "  'METAL CRED',\n",
       "  'Frank Zappa',\n",
       "  'Nun Desecration',\n",
       "  'THE MEAT',\n",
       "  'Beyond his metal sainthood for\\nbattling the censor-witches of the PMRC and getting named checked by Deep\\nPurple in “Smoke on the Water”, musical visionary Frank Zappa led many rock\\nfans to heavy metal.',\n",
       "  'And, from there, he led many metal\\nfans to the outer expanses of rock’s possibilities.',\n",
       "  'Zappa also opened countless banging\\nheads to the far reaches of jazz, classical, doo-wop, and any other art form\\nthat could involve (brilliant) noise and (brilliantly dumb) dirty jokes.',\n",
       "  '200\\nMotels is Zappa’s first crack at major motion picture madness, and it\\nembodies the much forgotten cultural moment when acid rock tumbled forever into\\nthe black pits of rising heavy metal.',\n",
       "  'Surrealistic sketches and\\npsychedelic set pieces about the insanity of a being on tour are interspersed\\namong performances in which the Mothers jam with London Philharmonic.',\n",
       "  'Ringo Starr plays Zappa during the\\ntalking parts. Zappa himself, plays guitar throughout, demonstrating how very\\nmuch of a six-string maestro he was, every lick on par with his future\\ncollaborators Steve Vail and Yngwie Malmsteen.',\n",
       "  'SOLID METAL NUGGETS',\n",
       "  '• A psychedelic cartoon interlude\\nadmiringly tweaks Black Sabbath and Grand Funk Railroad.',\n",
       "  '• Keith Moon, madman drummer of the\\nWho, pops up—and off—as “The Hot Nun.”'],\n",
       " 'head': ['200 MOTELS (1971)',\n",
       "  'DIRECTORS: Tony Palmer, Frank Zappa',\n",
       "  'CAST: Frank Zappa, Ringo Starr, Mark Volman, Howard Kaylan, Keith\\nMoon'],\n",
       " 'metal_cred': ['METAL CRED', 'Frank Zappa', 'Nun Desecration'],\n",
       " 'title': '200 MOTELS',\n",
       " 'direct': ['Tony Palmer', 'Frank Zappa'],\n",
       " 'solid_metal_nuggets': ['SOLID METAL NUGGETS',\n",
       "  '• A psychedelic cartoon interlude\\nadmiringly tweaks Black Sabbath and Grand Funk Railroad.',\n",
       "  '• Keith Moon, madman drummer of the\\nWho, pops up—and off—as “The Hot Nun.”'],\n",
       " 'cast': ['Frank Zappa',\n",
       "  'Ringo Starr',\n",
       "  'Mark Volman',\n",
       "  'Howard Kaylan',\n",
       "  'Keith Moon'],\n",
       " 'the_meat': ['THE MEAT',\n",
       "  'Beyond his metal sainthood for\\nbattling the censor-witches of the PMRC and getting named checked by Deep\\nPurple in “Smoke on the Water”, musical visionary Frank Zappa led many rock\\nfans to heavy metal.',\n",
       "  'And, from there, he led many metal\\nfans to the outer expanses of rock’s possibilities.',\n",
       "  'Zappa also opened countless banging\\nheads to the far reaches of jazz, classical, doo-wop, and any other art form\\nthat could involve (brilliant) noise and (brilliantly dumb) dirty jokes.',\n",
       "  '200\\nMotels is Zappa’s first crack at major motion picture madness, and it\\nembodies the much forgotten cultural moment when acid rock tumbled forever into\\nthe black pits of rising heavy metal.',\n",
       "  'Surrealistic sketches and\\npsychedelic set pieces about the insanity of a being on tour are interspersed\\namong performances in which the Mothers jam with London Philharmonic.',\n",
       "  'Ringo Starr plays Zappa during the\\ntalking parts. Zappa himself, plays guitar throughout, demonstrating how very\\nmuch of a six-string maestro he was, every lick on par with his future\\ncollaborators Steve Vail and Yngwie Malmsteen.'],\n",
       " 'year': 1971,\n",
       " 'sections': [['200 MOTELS (1971)',\n",
       "   'DIRECTORS: Tony Palmer, Frank Zappa',\n",
       "   'CAST: Frank Zappa, Ringo Starr, Mark Volman, Howard Kaylan, Keith\\nMoon'],\n",
       "  ['METAL CRED', 'Frank Zappa', 'Nun Desecration'],\n",
       "  ['THE MEAT',\n",
       "   'Beyond his metal sainthood for\\nbattling the censor-witches of the PMRC and getting named checked by Deep\\nPurple in “Smoke on the Water”, musical visionary Frank Zappa led many rock\\nfans to heavy metal.',\n",
       "   'And, from there, he led many metal\\nfans to the outer expanses of rock’s possibilities.',\n",
       "   'Zappa also opened countless banging\\nheads to the far reaches of jazz, classical, doo-wop, and any other art form\\nthat could involve (brilliant) noise and (brilliantly dumb) dirty jokes.',\n",
       "   '200\\nMotels is Zappa’s first crack at major motion picture madness, and it\\nembodies the much forgotten cultural moment when acid rock tumbled forever into\\nthe black pits of rising heavy metal.',\n",
       "   'Surrealistic sketches and\\npsychedelic set pieces about the insanity of a being on tour are interspersed\\namong performances in which the Mothers jam with London Philharmonic.',\n",
       "   'Ringo Starr plays Zappa during the\\ntalking parts. Zappa himself, plays guitar throughout, demonstrating how very\\nmuch of a six-string maestro he was, every lick on par with his future\\ncollaborators Steve Vail and Yngwie Malmsteen.'],\n",
       "  ['SOLID METAL NUGGETS',\n",
       "   '• A psychedelic cartoon interlude\\nadmiringly tweaks Black Sabbath and Grand Funk Railroad.',\n",
       "   '• Keith Moon, madman drummer of the\\nWho, pops up—and off—as “The Hot Nun.”']]}"
      ]
     },
     "execution_count": 27,
     "metadata": {},
     "output_type": "execute_result"
    }
   ],
   "source": [
    "query = hmm.find()\n",
    "\n",
    "query.next()"
   ]
  },
  {
   "cell_type": "code",
   "execution_count": 28,
   "metadata": {},
   "outputs": [
    {
     "ename": "StopIteration",
     "evalue": "",
     "output_type": "error",
     "traceback": [
      "\u001b[0;31m------------------------------------------------------------\u001b[0m",
      "\u001b[0;31mStopIteration\u001b[0m              Traceback (most recent call last)",
      "\u001b[0;32m<ipython-input-28-f442655a9b26>\u001b[0m in \u001b[0;36m<module>\u001b[0;34m()\u001b[0m\n\u001b[0;32m----> 1\u001b[0;31m \u001b[0mquery\u001b[0m\u001b[0;34m.\u001b[0m\u001b[0mnext\u001b[0m\u001b[0;34m(\u001b[0m\u001b[0;34m)\u001b[0m \u001b[0;31m# there is no next\u001b[0m\u001b[0;34m\u001b[0m\u001b[0m\n\u001b[0m",
      "\u001b[0;32m~/anaconda3/lib/python3.6/site-packages/pymongo/cursor.py\u001b[0m in \u001b[0;36mnext\u001b[0;34m(self)\u001b[0m\n\u001b[1;32m   1195\u001b[0m                 \u001b[0;32mreturn\u001b[0m \u001b[0mself\u001b[0m\u001b[0;34m.\u001b[0m\u001b[0m__data\u001b[0m\u001b[0;34m.\u001b[0m\u001b[0mpopleft\u001b[0m\u001b[0;34m(\u001b[0m\u001b[0;34m)\u001b[0m\u001b[0;34m\u001b[0m\u001b[0m\n\u001b[1;32m   1196\u001b[0m         \u001b[0;32melse\u001b[0m\u001b[0;34m:\u001b[0m\u001b[0;34m\u001b[0m\u001b[0m\n\u001b[0;32m-> 1197\u001b[0;31m             \u001b[0;32mraise\u001b[0m \u001b[0mStopIteration\u001b[0m\u001b[0;34m\u001b[0m\u001b[0m\n\u001b[0m\u001b[1;32m   1198\u001b[0m \u001b[0;34m\u001b[0m\u001b[0m\n\u001b[1;32m   1199\u001b[0m     \u001b[0m__next__\u001b[0m \u001b[0;34m=\u001b[0m \u001b[0mnext\u001b[0m\u001b[0;34m\u001b[0m\u001b[0m\n",
      "\u001b[0;31mStopIteration\u001b[0m: "
     ]
    }
   ],
   "source": [
    "query.next() # there is no next"
   ]
  },
  {
   "cell_type": "markdown",
   "metadata": {},
   "source": [
    "Let's add the rest (it may take a while)"
   ]
  },
  {
   "cell_type": "code",
   "execution_count": 29,
   "metadata": {
    "collapsed": true
   },
   "outputs": [],
   "source": [
    "for review in reviews[1:]:\n",
    "    hmm.insert_one(review)"
   ]
  },
  {
   "cell_type": "code",
   "execution_count": 31,
   "metadata": {
    "scrolled": true
   },
   "outputs": [
    {
     "data": {
      "text/plain": [
       "{'_id': ObjectId('5bdb3c2cfb0d277b43e9f770'),\n",
       " 'raw': ['200 MOTELS (1971)',\n",
       "  'DIRECTORS: Tony Palmer, Frank Zappa',\n",
       "  'CAST: Frank Zappa, Ringo Starr, Mark Volman, Howard Kaylan, Keith\\nMoon',\n",
       "  'METAL CRED',\n",
       "  'Frank Zappa',\n",
       "  'Nun Desecration',\n",
       "  'THE MEAT',\n",
       "  'Beyond his metal sainthood for\\nbattling the censor-witches of the PMRC and getting named checked by Deep\\nPurple in “Smoke on the Water”, musical visionary Frank Zappa led many rock\\nfans to heavy metal.',\n",
       "  'And, from there, he led many metal\\nfans to the outer expanses of rock’s possibilities.',\n",
       "  'Zappa also opened countless banging\\nheads to the far reaches of jazz, classical, doo-wop, and any other art form\\nthat could involve (brilliant) noise and (brilliantly dumb) dirty jokes.',\n",
       "  '200\\nMotels is Zappa’s first crack at major motion picture madness, and it\\nembodies the much forgotten cultural moment when acid rock tumbled forever into\\nthe black pits of rising heavy metal.',\n",
       "  'Surrealistic sketches and\\npsychedelic set pieces about the insanity of a being on tour are interspersed\\namong performances in which the Mothers jam with London Philharmonic.',\n",
       "  'Ringo Starr plays Zappa during the\\ntalking parts. Zappa himself, plays guitar throughout, demonstrating how very\\nmuch of a six-string maestro he was, every lick on par with his future\\ncollaborators Steve Vail and Yngwie Malmsteen.',\n",
       "  'SOLID METAL NUGGETS',\n",
       "  '• A psychedelic cartoon interlude\\nadmiringly tweaks Black Sabbath and Grand Funk Railroad.',\n",
       "  '• Keith Moon, madman drummer of the\\nWho, pops up—and off—as “The Hot Nun.”'],\n",
       " 'head': ['200 MOTELS (1971)',\n",
       "  'DIRECTORS: Tony Palmer, Frank Zappa',\n",
       "  'CAST: Frank Zappa, Ringo Starr, Mark Volman, Howard Kaylan, Keith\\nMoon'],\n",
       " 'metal_cred': ['METAL CRED', 'Frank Zappa', 'Nun Desecration'],\n",
       " 'title': '200 MOTELS',\n",
       " 'direct': ['Tony Palmer', 'Frank Zappa'],\n",
       " 'solid_metal_nuggets': ['SOLID METAL NUGGETS',\n",
       "  '• A psychedelic cartoon interlude\\nadmiringly tweaks Black Sabbath and Grand Funk Railroad.',\n",
       "  '• Keith Moon, madman drummer of the\\nWho, pops up—and off—as “The Hot Nun.”'],\n",
       " 'cast': ['Frank Zappa',\n",
       "  'Ringo Starr',\n",
       "  'Mark Volman',\n",
       "  'Howard Kaylan',\n",
       "  'Keith Moon'],\n",
       " 'the_meat': ['THE MEAT',\n",
       "  'Beyond his metal sainthood for\\nbattling the censor-witches of the PMRC and getting named checked by Deep\\nPurple in “Smoke on the Water”, musical visionary Frank Zappa led many rock\\nfans to heavy metal.',\n",
       "  'And, from there, he led many metal\\nfans to the outer expanses of rock’s possibilities.',\n",
       "  'Zappa also opened countless banging\\nheads to the far reaches of jazz, classical, doo-wop, and any other art form\\nthat could involve (brilliant) noise and (brilliantly dumb) dirty jokes.',\n",
       "  '200\\nMotels is Zappa’s first crack at major motion picture madness, and it\\nembodies the much forgotten cultural moment when acid rock tumbled forever into\\nthe black pits of rising heavy metal.',\n",
       "  'Surrealistic sketches and\\npsychedelic set pieces about the insanity of a being on tour are interspersed\\namong performances in which the Mothers jam with London Philharmonic.',\n",
       "  'Ringo Starr plays Zappa during the\\ntalking parts. Zappa himself, plays guitar throughout, demonstrating how very\\nmuch of a six-string maestro he was, every lick on par with his future\\ncollaborators Steve Vail and Yngwie Malmsteen.'],\n",
       " 'year': 1971,\n",
       " 'sections': [['200 MOTELS (1971)',\n",
       "   'DIRECTORS: Tony Palmer, Frank Zappa',\n",
       "   'CAST: Frank Zappa, Ringo Starr, Mark Volman, Howard Kaylan, Keith\\nMoon'],\n",
       "  ['METAL CRED', 'Frank Zappa', 'Nun Desecration'],\n",
       "  ['THE MEAT',\n",
       "   'Beyond his metal sainthood for\\nbattling the censor-witches of the PMRC and getting named checked by Deep\\nPurple in “Smoke on the Water”, musical visionary Frank Zappa led many rock\\nfans to heavy metal.',\n",
       "   'And, from there, he led many metal\\nfans to the outer expanses of rock’s possibilities.',\n",
       "   'Zappa also opened countless banging\\nheads to the far reaches of jazz, classical, doo-wop, and any other art form\\nthat could involve (brilliant) noise and (brilliantly dumb) dirty jokes.',\n",
       "   '200\\nMotels is Zappa’s first crack at major motion picture madness, and it\\nembodies the much forgotten cultural moment when acid rock tumbled forever into\\nthe black pits of rising heavy metal.',\n",
       "   'Surrealistic sketches and\\npsychedelic set pieces about the insanity of a being on tour are interspersed\\namong performances in which the Mothers jam with London Philharmonic.',\n",
       "   'Ringo Starr plays Zappa during the\\ntalking parts. Zappa himself, plays guitar throughout, demonstrating how very\\nmuch of a six-string maestro he was, every lick on par with his future\\ncollaborators Steve Vail and Yngwie Malmsteen.'],\n",
       "  ['SOLID METAL NUGGETS',\n",
       "   '• A psychedelic cartoon interlude\\nadmiringly tweaks Black Sabbath and Grand Funk Railroad.',\n",
       "   '• Keith Moon, madman drummer of the\\nWho, pops up—and off—as “The Hot Nun.”']]}"
      ]
     },
     "execution_count": 31,
     "metadata": {},
     "output_type": "execute_result"
    }
   ],
   "source": [
    "# some basic exploration:\n",
    "# lets see what one (the first) document looks like:\n",
    "hmm.find_one()"
   ]
  },
  {
   "cell_type": "code",
   "execution_count": 32,
   "metadata": {},
   "outputs": [
    {
     "data": {
      "text/plain": [
       "{'_id': ObjectId('5bdb3c3ffb0d277b43e9f786'),\n",
       " 'raw': ['ALMOST FAMOUS (2000)\\nDIRECTOR: Cameron Crowe',\n",
       "  'CAST: Patrick Fugit, Kate Hudson, Billy Crudup, Philip Seymour\\nHoffman',\n",
       "  'METAL CRED',\n",
       "  '’70s Arena Rock',\n",
       "  'Soundtrack: Black Sabbath, Deep\\nPurple, Jethro Tull, Jimi Hendrix, Led Zeppelin, Lynyrd Skynrd, MC5, Stooges',\n",
       "  'THE MEAT',\n",
       "  'There is no film I hate quite like Almost Famous, meaning, of course, that\\nthere is no film that I love like Almost\\nFamous.',\n",
       "  'It is a brilliant extension of its\\ncreator, former Rolling Stone writer\\nturned Say Anything and We Bought a Zoo filmmaker Cameron Crowe.',\n",
       "  'In its brilliance, though, Almost Famous is a loathsome, cretinous\\nthing of treacle and saccharine and mucus dressed up in denim and leather and\\nbellbottoms. Again: just like Cameron.',\n",
       "  'Set in 1974, Patrick Fugit stars as\\nWilliam Miller, a fifteen-year-old rock fan and budding journalist who, inspired\\nby Lester Bangs (Philip Seymour Hoffman), gets a crack at writing for Rolling Stone magazine.',\n",
       "  'He hits the road with the vaguely\\nZeppelin-ish, vaguely Allman Brotherly heavy rockers Stillwater, fronted by\\nsinger Jeff Bebe (Jason Lee) and guitarist Russell Hammond (Billy Crudup).',\n",
       "  'Along for the squeaky-clean\\nadventure with bogus approximations of danger (somebody ALMOST takes too many\\ndrugs!) is groupie Penny Lane (Kate Hudson).',\n",
       "  'One perfect example of Almost Famous’s perfect execrable\\nawfulness: Penny Lane makes sure to say, out loud, as dialogue, “You\\nknow—like the song?”',\n",
       "  'It’s all very pretty and glossy and\\nshot through a weepy lens and designed to finger-tap the heartstrings of\\ndipshits and it really does evoke the work Crowe did for Rolling Stone as a\\nteenager.',\n",
       "  'That’s to say that Almost Famous is fawning, shallow,\\nglossy, gloppy, and engaged in mutual (one-inch) dick-docking with the\\ncorporate rock and mainstream music media.',\n",
       "  'The upside of this is that Led\\nZeppelin, for whom Crowe shilled relentlessly, has decreed a permanent quid pro\\nquo and will always allow their music to be used in his movies.',\n",
       "  'As a result, in Almost Famous alone we hear\\n“Bron-Yr-Aur,” “Misty Mountain Hop,” “The Rain Song,” “Tangerine,” and “That’s\\nthe Way.”',\n",
       "  'The downside is … Almost Famous.',\n",
       "  'Crowe’s impossible sentimentality\\neven violates, castrates, and debilitates the era’s non-metal music.',\n",
       "  'You expect a movie to fuck up hard\\nrock when it champions Rolling Stone,\\nthe cultural touchstone above all others that outwardly and proudly despised\\nheavy metal from Black Sabbath onward and pretended to think punk was cool and\\nthen never reported on it.',\n",
       "  'Almost\\nFamous is so phony it even anal-taints the music that Rolling Stone chose over metal and punk in the first place.',\n",
       "  'I hate the faux “we’re all in this\\ntogether, gang” tour bus sing-along to Elton John’s “Tiny Dancer.”',\n",
       "  'I hate the faux lyricism of Penny\\nLane (“you know—like the song?”) whirling and twirling and pixie-ing it\\nup all by her contended lonesome in the balloon-strewn post-concert ballroom to\\n“The Wind” by Cat Stevens.',\n",
       "  'I hate whatever part of the movie\\n“America” by Simon and Garfunkel plays in so they could use it on all those Almost Famous TV commercials.',\n",
       "  'I also hate, furiously, how aware\\nevery character is that, “This is, like, twenty-five years ago!”',\n",
       "  'Lee and Crudup talk knowingly about\\nbeing the charismatic frontman and the mysterious guitar maestro, as though\\nthat ’70s rock critic cliché had been drilled into their characters since\\ngrowing up in the 1950s.',\n",
       "  'During a near plane crash, a\\nStillwater member blurts out the one confessional line guaranteed to secure\\nanother movie deal in turn of the twenty-first century Hollywood: “I’M GAY!”',\n",
       "  'Stone staffer Ben Fong-Torress\\n(Terry Chen) not only chuckles it up over a newfangled “facsimile machine”, he\\ngives contemporary audiences an adorable guffaw by adding, “And it only takes\\neighteen-and-a-half minutes per page!”',\n",
       "  'Fugit, in the lead, performs a\\npeerless feat of anti-acting. He is a vortex to a void to a hole. His presence\\namong other actors makes it seem like someone has smeared White-Out over\\nwhatever portion of the screen on which he is supposedly appearing.',\n",
       "  'It’s not surprising that he never\\ngot to act in a real movie again.',\n",
       "  'It is also not surprising that\\nmainstream and, in particular, highbrow cultural gatekeepers embraced Almost Famous with frothing joy. When\\nthe movie bombed, The New York Times\\neven ran a full-page article decrying the public for just not “getting” it.',\n",
       "  'The public “got” Almost Famous. The public just didn’t\\nlike it.',\n",
       "  'I “got” it too. And I despised Almost Metal so much, I saw it twice in\\ntheater, I’ve purchased it on three different video formats, and I can’t tell\\nyou how many times I’ve watched it on cable. And will again.',\n",
       "  'False metal can reach a point when\\nit becomes so false, one must bow before its reality.',\n",
       "  'And spit.',\n",
       "  'SOLID METAL NUGGETS',\n",
       "  '•\\xa0Alice Cooper was the hugest\\nrock star on earth in 1974. His presence in Almost Famous is reduced to a cover\\nimage on Crawdaddy magazine—in\\na background shot.',\n",
       "  '• Crowe says that Stillwater is\\nbased on a cross-section of bands he interviewed, with particular emphasis on\\nexperiences he had with Zeppelin and Peter Frampton. Gregg Allman claims most\\nof the movie is based on the Allman Brothers.',\n",
       "  'I don’t know and I don’t care and I\\nreally came close to ending this write-up with a joke about wishing young Cammy\\nwould have been on assignment with Lynyrd Skynard circa ’77—but then I\\nremembered that the fucker did write Fast\\nTimes at Ridgemont High (1982).'],\n",
       " 'head': ['ALMOST FAMOUS (2000)\\nDIRECTOR: Cameron Crowe',\n",
       "  'CAST: Patrick Fugit, Kate Hudson, Billy Crudup, Philip Seymour\\nHoffman'],\n",
       " 'metal_cred': ['METAL CRED',\n",
       "  '’70s Arena Rock',\n",
       "  'Soundtrack: Black Sabbath, Deep\\nPurple, Jethro Tull, Jimi Hendrix, Led Zeppelin, Lynyrd Skynrd, MC5, Stooges'],\n",
       " 'title': 'ALMOST FAMOUS',\n",
       " 'direct': ['Cameron Crowe'],\n",
       " 'solid_metal_nuggets': ['SOLID METAL NUGGETS',\n",
       "  '•\\xa0Alice Cooper was the hugest\\nrock star on earth in 1974. His presence in Almost Famous is reduced to a cover\\nimage on Crawdaddy magazine—in\\na background shot.',\n",
       "  '• Crowe says that Stillwater is\\nbased on a cross-section of bands he interviewed, with particular emphasis on\\nexperiences he had with Zeppelin and Peter Frampton. Gregg Allman claims most\\nof the movie is based on the Allman Brothers.',\n",
       "  'I don’t know and I don’t care and I\\nreally came close to ending this write-up with a joke about wishing young Cammy\\nwould have been on assignment with Lynyrd Skynard circa ’77—but then I\\nremembered that the fucker did write Fast\\nTimes at Ridgemont High (1982).'],\n",
       " 'cast': ['Patrick Fugit',\n",
       "  'Kate Hudson',\n",
       "  'Billy Crudup',\n",
       "  'Philip Seymour Hoffman'],\n",
       " 'the_meat': ['THE MEAT',\n",
       "  'There is no film I hate quite like Almost Famous, meaning, of course, that\\nthere is no film that I love like Almost\\nFamous.',\n",
       "  'It is a brilliant extension of its\\ncreator, former Rolling Stone writer\\nturned Say Anything and We Bought a Zoo filmmaker Cameron Crowe.',\n",
       "  'In its brilliance, though, Almost Famous is a loathsome, cretinous\\nthing of treacle and saccharine and mucus dressed up in denim and leather and\\nbellbottoms. Again: just like Cameron.',\n",
       "  'Set in 1974, Patrick Fugit stars as\\nWilliam Miller, a fifteen-year-old rock fan and budding journalist who, inspired\\nby Lester Bangs (Philip Seymour Hoffman), gets a crack at writing for Rolling Stone magazine.',\n",
       "  'He hits the road with the vaguely\\nZeppelin-ish, vaguely Allman Brotherly heavy rockers Stillwater, fronted by\\nsinger Jeff Bebe (Jason Lee) and guitarist Russell Hammond (Billy Crudup).',\n",
       "  'Along for the squeaky-clean\\nadventure with bogus approximations of danger (somebody ALMOST takes too many\\ndrugs!) is groupie Penny Lane (Kate Hudson).',\n",
       "  'One perfect example of Almost Famous’s perfect execrable\\nawfulness: Penny Lane makes sure to say, out loud, as dialogue, “You\\nknow—like the song?”',\n",
       "  'It’s all very pretty and glossy and\\nshot through a weepy lens and designed to finger-tap the heartstrings of\\ndipshits and it really does evoke the work Crowe did for Rolling Stone as a\\nteenager.',\n",
       "  'That’s to say that Almost Famous is fawning, shallow,\\nglossy, gloppy, and engaged in mutual (one-inch) dick-docking with the\\ncorporate rock and mainstream music media.',\n",
       "  'The upside of this is that Led\\nZeppelin, for whom Crowe shilled relentlessly, has decreed a permanent quid pro\\nquo and will always allow their music to be used in his movies.',\n",
       "  'As a result, in Almost Famous alone we hear\\n“Bron-Yr-Aur,” “Misty Mountain Hop,” “The Rain Song,” “Tangerine,” and “That’s\\nthe Way.”',\n",
       "  'The downside is … Almost Famous.',\n",
       "  'Crowe’s impossible sentimentality\\neven violates, castrates, and debilitates the era’s non-metal music.',\n",
       "  'You expect a movie to fuck up hard\\nrock when it champions Rolling Stone,\\nthe cultural touchstone above all others that outwardly and proudly despised\\nheavy metal from Black Sabbath onward and pretended to think punk was cool and\\nthen never reported on it.',\n",
       "  'Almost\\nFamous is so phony it even anal-taints the music that Rolling Stone chose over metal and punk in the first place.',\n",
       "  'I hate the faux “we’re all in this\\ntogether, gang” tour bus sing-along to Elton John’s “Tiny Dancer.”',\n",
       "  'I hate the faux lyricism of Penny\\nLane (“you know—like the song?”) whirling and twirling and pixie-ing it\\nup all by her contended lonesome in the balloon-strewn post-concert ballroom to\\n“The Wind” by Cat Stevens.',\n",
       "  'I hate whatever part of the movie\\n“America” by Simon and Garfunkel plays in so they could use it on all those Almost Famous TV commercials.',\n",
       "  'I also hate, furiously, how aware\\nevery character is that, “This is, like, twenty-five years ago!”',\n",
       "  'Lee and Crudup talk knowingly about\\nbeing the charismatic frontman and the mysterious guitar maestro, as though\\nthat ’70s rock critic cliché had been drilled into their characters since\\ngrowing up in the 1950s.',\n",
       "  'During a near plane crash, a\\nStillwater member blurts out the one confessional line guaranteed to secure\\nanother movie deal in turn of the twenty-first century Hollywood: “I’M GAY!”',\n",
       "  'Stone staffer Ben Fong-Torress\\n(Terry Chen) not only chuckles it up over a newfangled “facsimile machine”, he\\ngives contemporary audiences an adorable guffaw by adding, “And it only takes\\neighteen-and-a-half minutes per page!”',\n",
       "  'Fugit, in the lead, performs a\\npeerless feat of anti-acting. He is a vortex to a void to a hole. His presence\\namong other actors makes it seem like someone has smeared White-Out over\\nwhatever portion of the screen on which he is supposedly appearing.',\n",
       "  'It’s not surprising that he never\\ngot to act in a real movie again.',\n",
       "  'It is also not surprising that\\nmainstream and, in particular, highbrow cultural gatekeepers embraced Almost Famous with frothing joy. When\\nthe movie bombed, The New York Times\\neven ran a full-page article decrying the public for just not “getting” it.',\n",
       "  'The public “got” Almost Famous. The public just didn’t\\nlike it.',\n",
       "  'I “got” it too. And I despised Almost Metal so much, I saw it twice in\\ntheater, I’ve purchased it on three different video formats, and I can’t tell\\nyou how many times I’ve watched it on cable. And will again.',\n",
       "  'False metal can reach a point when\\nit becomes so false, one must bow before its reality.',\n",
       "  'And spit.'],\n",
       " 'year': 2000,\n",
       " 'sections': [['ALMOST FAMOUS (2000)\\nDIRECTOR: Cameron Crowe',\n",
       "   'CAST: Patrick Fugit, Kate Hudson, Billy Crudup, Philip Seymour\\nHoffman'],\n",
       "  ['METAL CRED',\n",
       "   '’70s Arena Rock',\n",
       "   'Soundtrack: Black Sabbath, Deep\\nPurple, Jethro Tull, Jimi Hendrix, Led Zeppelin, Lynyrd Skynrd, MC5, Stooges'],\n",
       "  ['THE MEAT',\n",
       "   'There is no film I hate quite like Almost Famous, meaning, of course, that\\nthere is no film that I love like Almost\\nFamous.',\n",
       "   'It is a brilliant extension of its\\ncreator, former Rolling Stone writer\\nturned Say Anything and We Bought a Zoo filmmaker Cameron Crowe.',\n",
       "   'In its brilliance, though, Almost Famous is a loathsome, cretinous\\nthing of treacle and saccharine and mucus dressed up in denim and leather and\\nbellbottoms. Again: just like Cameron.',\n",
       "   'Set in 1974, Patrick Fugit stars as\\nWilliam Miller, a fifteen-year-old rock fan and budding journalist who, inspired\\nby Lester Bangs (Philip Seymour Hoffman), gets a crack at writing for Rolling Stone magazine.',\n",
       "   'He hits the road with the vaguely\\nZeppelin-ish, vaguely Allman Brotherly heavy rockers Stillwater, fronted by\\nsinger Jeff Bebe (Jason Lee) and guitarist Russell Hammond (Billy Crudup).',\n",
       "   'Along for the squeaky-clean\\nadventure with bogus approximations of danger (somebody ALMOST takes too many\\ndrugs!) is groupie Penny Lane (Kate Hudson).',\n",
       "   'One perfect example of Almost Famous’s perfect execrable\\nawfulness: Penny Lane makes sure to say, out loud, as dialogue, “You\\nknow—like the song?”',\n",
       "   'It’s all very pretty and glossy and\\nshot through a weepy lens and designed to finger-tap the heartstrings of\\ndipshits and it really does evoke the work Crowe did for Rolling Stone as a\\nteenager.',\n",
       "   'That’s to say that Almost Famous is fawning, shallow,\\nglossy, gloppy, and engaged in mutual (one-inch) dick-docking with the\\ncorporate rock and mainstream music media.',\n",
       "   'The upside of this is that Led\\nZeppelin, for whom Crowe shilled relentlessly, has decreed a permanent quid pro\\nquo and will always allow their music to be used in his movies.',\n",
       "   'As a result, in Almost Famous alone we hear\\n“Bron-Yr-Aur,” “Misty Mountain Hop,” “The Rain Song,” “Tangerine,” and “That’s\\nthe Way.”',\n",
       "   'The downside is … Almost Famous.',\n",
       "   'Crowe’s impossible sentimentality\\neven violates, castrates, and debilitates the era’s non-metal music.',\n",
       "   'You expect a movie to fuck up hard\\nrock when it champions Rolling Stone,\\nthe cultural touchstone above all others that outwardly and proudly despised\\nheavy metal from Black Sabbath onward and pretended to think punk was cool and\\nthen never reported on it.',\n",
       "   'Almost\\nFamous is so phony it even anal-taints the music that Rolling Stone chose over metal and punk in the first place.',\n",
       "   'I hate the faux “we’re all in this\\ntogether, gang” tour bus sing-along to Elton John’s “Tiny Dancer.”',\n",
       "   'I hate the faux lyricism of Penny\\nLane (“you know—like the song?”) whirling and twirling and pixie-ing it\\nup all by her contended lonesome in the balloon-strewn post-concert ballroom to\\n“The Wind” by Cat Stevens.',\n",
       "   'I hate whatever part of the movie\\n“America” by Simon and Garfunkel plays in so they could use it on all those Almost Famous TV commercials.',\n",
       "   'I also hate, furiously, how aware\\nevery character is that, “This is, like, twenty-five years ago!”',\n",
       "   'Lee and Crudup talk knowingly about\\nbeing the charismatic frontman and the mysterious guitar maestro, as though\\nthat ’70s rock critic cliché had been drilled into their characters since\\ngrowing up in the 1950s.',\n",
       "   'During a near plane crash, a\\nStillwater member blurts out the one confessional line guaranteed to secure\\nanother movie deal in turn of the twenty-first century Hollywood: “I’M GAY!”',\n",
       "   'Stone staffer Ben Fong-Torress\\n(Terry Chen) not only chuckles it up over a newfangled “facsimile machine”, he\\ngives contemporary audiences an adorable guffaw by adding, “And it only takes\\neighteen-and-a-half minutes per page!”',\n",
       "   'Fugit, in the lead, performs a\\npeerless feat of anti-acting. He is a vortex to a void to a hole. His presence\\namong other actors makes it seem like someone has smeared White-Out over\\nwhatever portion of the screen on which he is supposedly appearing.',\n",
       "   'It’s not surprising that he never\\ngot to act in a real movie again.',\n",
       "   'It is also not surprising that\\nmainstream and, in particular, highbrow cultural gatekeepers embraced Almost Famous with frothing joy. When\\nthe movie bombed, The New York Times\\neven ran a full-page article decrying the public for just not “getting” it.',\n",
       "   'The public “got” Almost Famous. The public just didn’t\\nlike it.',\n",
       "   'I “got” it too. And I despised Almost Metal so much, I saw it twice in\\ntheater, I’ve purchased it on three different video formats, and I can’t tell\\nyou how many times I’ve watched it on cable. And will again.',\n",
       "   'False metal can reach a point when\\nit becomes so false, one must bow before its reality.',\n",
       "   'And spit.'],\n",
       "  ['SOLID METAL NUGGETS',\n",
       "   '•\\xa0Alice Cooper was the hugest\\nrock star on earth in 1974. His presence in Almost Famous is reduced to a cover\\nimage on Crawdaddy magazine—in\\na background shot.',\n",
       "   '• Crowe says that Stillwater is\\nbased on a cross-section of bands he interviewed, with particular emphasis on\\nexperiences he had with Zeppelin and Peter Frampton. Gregg Allman claims most\\nof the movie is based on the Allman Brothers.',\n",
       "   'I don’t know and I don’t care and I\\nreally came close to ending this write-up with a joke about wishing young Cammy\\nwould have been on assignment with Lynyrd Skynard circa ’77—but then I\\nremembered that the fucker did write Fast\\nTimes at Ridgemont High (1982).']]}"
      ]
     },
     "execution_count": 32,
     "metadata": {},
     "output_type": "execute_result"
    }
   ],
   "source": [
    "hmm.find_one({'year':2000})"
   ]
  },
  {
   "cell_type": "code",
   "execution_count": 35,
   "metadata": {},
   "outputs": [
    {
     "data": {
      "text/plain": [
       "856"
      ]
     },
     "execution_count": 35,
     "metadata": {},
     "output_type": "execute_result"
    }
   ],
   "source": [
    "hmm.estimated_document_count()  # this is the length of the collection."
   ]
  },
  {
   "cell_type": "markdown",
   "metadata": {},
   "source": [
    "### Challenge 14 (partial)\n",
    "\n",
    "Let's work on a version of Challenge #14. Make a list of the years in the heavy metal data. How many heavy metal films came out in 1980?\n",
    "\n"
   ]
  },
  {
   "cell_type": "code",
   "execution_count": 36,
   "metadata": {},
   "outputs": [
    {
     "name": "stdout",
     "output_type": "stream",
     "text": [
      "31\n"
     ]
    }
   ],
   "source": [
    "eighty = 0\n",
    "for film in hmm.find({\"year\":1980}):\n",
    "    eighty += 1\n",
    "print(eighty)"
   ]
  },
  {
   "cell_type": "code",
   "execution_count": 37,
   "metadata": {},
   "outputs": [
    {
     "name": "stdout",
     "output_type": "stream",
     "text": [
      "31\n"
     ]
    }
   ],
   "source": [
    "# same thing as above\n",
    "\n",
    "eighty = len(list(hmm.find({\"year\": 1980})))    \n",
    "print(eighty)"
   ]
  },
  {
   "cell_type": "code",
   "execution_count": 40,
   "metadata": {},
   "outputs": [
    {
     "name": "stdout",
     "output_type": "stream",
     "text": [
      "31\n"
     ]
    }
   ],
   "source": [
    "# same thing as above \n",
    "\n",
    "eighty = hmm.count_documents({\"year\": 1980})\n",
    "print(eighty)"
   ]
  },
  {
   "cell_type": "markdown",
   "metadata": {},
   "source": [
    "What is the frequency of metal movies by year?"
   ]
  },
  {
   "cell_type": "code",
   "execution_count": 62,
   "metadata": {},
   "outputs": [
    {
     "data": {
      "text/plain": [
       "{'_id': 1956, 'year_count': 1}"
      ]
     },
     "execution_count": 62,
     "metadata": {},
     "output_type": "execute_result"
    }
   ],
   "source": [
    "cursor = hmm.aggregate([\n",
    "    {\"$group\": {\n",
    "        \"_id\": \"$year\",\n",
    "        \"year_count\": {\"$sum\": 1} \n",
    "    }}\n",
    "])\n",
    "\n",
    "\n",
    "cursor.next()\n",
    "# list(cursor)"
   ]
  },
  {
   "cell_type": "code",
   "execution_count": 63,
   "metadata": {
    "collapsed": true
   },
   "outputs": [],
   "source": [
    "# Store into a python dictionary called histogram\n",
    "histogram = {}\n",
    "for res in cursor:\n",
    "    year = res['_id']\n",
    "    count = res['year_count']\n",
    "    histogram[year] = count"
   ]
  },
  {
   "cell_type": "code",
   "execution_count": 64,
   "metadata": {},
   "outputs": [
    {
     "name": "stdout",
     "output_type": "stream",
     "text": [
      "1910 1\n",
      "1912 1\n",
      "1920 1\n",
      "1922 2\n",
      "1923 1\n",
      "1925 1\n",
      "1926 1\n",
      "1929 1\n",
      "1931 2\n",
      "1932 4\n",
      "1933 1\n",
      "1936 1\n",
      "1940 1\n",
      "1941 1\n",
      "1945 1\n",
      "1946 2\n",
      "1954 1\n",
      "1957 2\n",
      "1958 3\n",
      "1960 3\n",
      "1961 1\n",
      "1962 5\n",
      "1963 6\n",
      "1964 2\n",
      "1965 1\n",
      "1966 5\n",
      "1967 4\n",
      "1968 9\n",
      "1969 3\n",
      "1970 14\n",
      "1971 17\n",
      "1972 9\n",
      "1973 21\n",
      "1974 18\n",
      "1975 14\n",
      "1976 18\n",
      "1977 19\n",
      "1978 17\n",
      "1979 13\n",
      "1980 31\n",
      "1981 31\n",
      "1982 48\n",
      "1983 27\n",
      "1984 25\n",
      "1985 31\n",
      "1986 31\n",
      "1987 26\n",
      "1988 21\n",
      "1989 16\n",
      "1990 17\n",
      "1991 12\n",
      "1992 14\n",
      "1993 8\n",
      "1994 11\n",
      "1995 10\n",
      "1996 9\n",
      "1997 10\n",
      "1998 8\n",
      "1999 9\n",
      "2000 13\n",
      "2001 16\n",
      "2002 12\n",
      "2003 11\n",
      "2004 11\n",
      "2005 13\n",
      "2006 19\n",
      "2007 19\n",
      "2008 26\n",
      "2009 22\n",
      "2010 35\n",
      "2011 19\n",
      "2012 15\n",
      "2013 2\n"
     ]
    }
   ],
   "source": [
    "for year in sorted(histogram.keys()):\n",
    "    print(year, histogram[year])"
   ]
  },
  {
   "cell_type": "code",
   "execution_count": 47,
   "metadata": {
    "collapsed": true
   },
   "outputs": [],
   "source": [
    "import matplotlib.pyplot as plt\n",
    "%matplotlib inline "
   ]
  },
  {
   "cell_type": "code",
   "execution_count": 68,
   "metadata": {},
   "outputs": [
    {
     "data": {
      "image/png": "[encoded data removed]",
      "text/plain": [
       "<Figure size 864x432 with 1 Axes>"
      ]
     },
     "metadata": {
      "needs_background": "light"
     },
     "output_type": "display_data"
    }
   ],
   "source": [
    "plt.figure(figsize=(12,6))\n",
    "plt.bar(list(histogram.keys()),list(histogram.values()));"
   ]
  },
  {
   "cell_type": "code",
   "execution_count": null,
   "metadata": {
    "collapsed": true
   },
   "outputs": [],
   "source": []
  }
 ],
 "metadata": {
  "kernelspec": {
   "display_name": "Python 3",
   "language": "python",
   "name": "python3"
  },
  "language_info": {
   "codemirror_mode": {
    "name": "ipython",
    "version": 3
   },
   "file_extension": ".py",
   "mimetype": "text/x-python",
   "name": "python",
   "nbconvert_exporter": "python",
   "pygments_lexer": "ipython3",
   "version": "3.6.6"
  }
 },
 "nbformat": 4,
 "nbformat_minor": 2
}
